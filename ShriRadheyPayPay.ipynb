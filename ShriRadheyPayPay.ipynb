{
  "cells": [
    {
      "cell_type": "markdown",
      "metadata": {
        "id": "view-in-github",
        "colab_type": "text"
      },
      "source": [
        "<a href=\"https://colab.research.google.com/github/dineshRaja29/Revenue-Forecast-Engine/blob/main/ShriRadheyPayPay.ipynb\" target=\"_parent\"><img src=\"https://colab.research.google.com/assets/colab-badge.svg\" alt=\"Open In Colab\"/></a>"
      ]
    },
    {
      "cell_type": "code",
      "execution_count": null,
      "metadata": {
        "id": "ykeVVt4KqTcn"
      },
      "outputs": [],
      "source": [
        "#Shri Radhey"
      ]
    },
    {
      "cell_type": "markdown",
      "metadata": {
        "id": "uhK1kDLAs0eq"
      },
      "source": [
        "#<font color='green'><b>INTRODUCTION</b></font>"
      ]
    },
    {
      "cell_type": "markdown",
      "metadata": {
        "id": "gvYG2tj_wy4G"
      },
      "source": [
        "\n",
        "##<font color='green'><b>BUSINESS PROBLEM"
      ]
    },
    {
      "cell_type": "markdown",
      "metadata": {
        "id": "Q_IdrFfGxGfP"
      },
      "source": [
        "YayYay is a small payment processing company based in Japan that began operations in 2019. The business team is interested in forecasting GMV (Gross Merchandise Value), which is defined as the sum of transaction amounts over a period of time. GMV can be defined per store (the seller), per user (the purchaser), or for YayYay as a whole (across all users and stores).\n",
        "\n"
      ]
    },
    {
      "cell_type": "markdown",
      "metadata": {
        "id": "q_lFPuYTyjQc"
      },
      "source": [
        "##<font color='green'><b>PROBLEM DEFINITION"
      ]
    },
    {
      "cell_type": "markdown",
      "metadata": {
        "id": "khgg9EqDypq8"
      },
      "source": [
        "* Perform an exploratory data analysis to highlight patterns in the data using whatever visualizations you prefer.\n",
        "* Forecast GMV for each user for the month of January 2022\n",
        "* Forecast GMV for YayYay as a whole for each date in the month of January 2022"
      ]
    },
    {
      "cell_type": "markdown",
      "metadata": {
        "id": "Ao6HSR64y6Fm"
      },
      "source": [
        "##<font color='green'><b>REAL-WORLD/BUSINESS OBJECTIVES AND CONSTRAINTS\n",
        "\n",
        "\n"
      ]
    },
    {
      "cell_type": "markdown",
      "metadata": {
        "id": "dxim5ULo3NYn"
      },
      "source": [
        "OBJECTIVE:\n",
        "Predict the GMV as accurate as possibile"
      ]
    },
    {
      "cell_type": "markdown",
      "metadata": {
        "id": "6oKxbJJQzJDH"
      },
      "source": [
        "CONSTRAINTS:\n",
        "\n",
        "* No low-latency requirement\n",
        "* Interpretability is partial important\n",
        "* Errors can be very costly\n",
        "* Relative error should be less"
      ]
    },
    {
      "cell_type": "markdown",
      "metadata": {
        "id": "JOKVNQQl3vE1"
      },
      "source": [
        "##<font color='green'><b>DATA DETAILS"
      ]
    },
    {
      "cell_type": "markdown",
      "metadata": {
        "id": "CjGfhuv2yNg1"
      },
      "source": [
        "The datasets is given in CSV format and split across three files. Below are the file details.\n",
        "* <b>transactions.csv</b> contains all transactions for 2020 and 2021 including the user ID (user_id), store ID (store_id), the datetime of the transaction (event_occurance), and the amount of the transaction in yen (amount)\n",
        "\n",
        "* <b>Stores.csv</b> contains characteristics for each store such as the prefecture (nam), local administrative area (laa), category, and location in latitude (lat) and longitude (lon)\n",
        "\n",
        "* <b>Users.csv</b> contains the characteristics for each user such as gender and age as of December 31, 2021\n",
        "\n"
      ]
    },
    {
      "cell_type": "markdown",
      "metadata": {
        "id": "UqSPgD3Zo_he"
      },
      "source": [
        "##<font color='green'><b>MAPPING THE REAL-WORLD PROBLEM TO AN ML PROBLEM\n",
        "\n",
        "\n"
      ]
    },
    {
      "cell_type": "markdown",
      "metadata": {
        "id": "4nwWZvPupbKk"
      },
      "source": [
        "###<font color='green'><b>ML PROBLEM FORMULATION</b></font>\n",
        "There are 16 types of store, and each user on each day spend some amount on the stores. Thus, it is a standard regression problem."
      ]
    },
    {
      "cell_type": "markdown",
      "metadata": {
        "id": "XdBIQ1MIsc_D"
      },
      "source": [
        "##<font color='green'><b>PERFORMANCE METRIC"
      ]
    },
    {
      "cell_type": "markdown",
      "metadata": {
        "id": "hEd6PFDVsjMu"
      },
      "source": [
        "\n",
        "* Mean Absolute Percentage Error (MAPE)\n",
        "> Quantifies the error percentage which directly helps to understand the how far we are with actual prediction\n",
        "\n",
        "* R2 Score\n",
        "> Helps to monitor how good we are when we compare to the model which predicts the average values for each observation\n",
        "\n"
      ]
    },
    {
      "cell_type": "markdown",
      "metadata": {
        "id": "Jp2MbC4PyXEZ"
      },
      "source": [
        "#<font color='green'><b>IMPORT LIBRARIES AND CONFIGURATION VARIABLES</b></font>"
      ]
    },
    {
      "cell_type": "code",
      "execution_count": null,
      "metadata": {
        "id": "XulfGdHmyi-2"
      },
      "outputs": [],
      "source": [
        "!pip install reverse_geocoder > /dev/null"
      ]
    },
    {
      "cell_type": "code",
      "execution_count": null,
      "metadata": {
        "id": "6qUB_HCNyrza"
      },
      "outputs": [],
      "source": [
        "# import libraries\n",
        "import pandas as pd\n",
        "import numpy as np\n",
        "import math\n",
        "import matplotlib.pyplot as plt\n",
        "from collections import Counter\n",
        "import pprint\n",
        "import folium\n",
        "import calendar\n",
        "import datetime\n",
        "import holidays\n",
        "from sklearn.decomposition import PCA\n",
        "import reverse_geocoder as rg\n",
        "from geopy.geocoders import Nominatim\n",
        "from sklearn.preprocessing import OneHotEncoder\n",
        "from sklearn import linear_model\n",
        "from sklearn.linear_model import Ridge\n",
        "from sklearn.svm import SVR\n",
        "from sklearn.metrics import mean_absolute_percentage_error, r2_score\n",
        "from sklearn.model_selection import GridSearchCV\n",
        "from sklearn import preprocessing\n",
        "import seaborn as sns\n",
        "import sklearn\n",
        "import xgboost as xgb\n",
        "from sklearn.metrics import mean_squared_error\n",
        "import random\n",
        "from scipy.stats import kurtosis, skew\n",
        "geolocator = Nominatim(user_agent=\"geoapiExercises\")"
      ]
    },
    {
      "cell_type": "code",
      "execution_count": null,
      "metadata": {
        "id": "oc2uKftMy7_a"
      },
      "outputs": [],
      "source": [
        "# plot like definers\n",
        "font = {'weight' : 'bold',\n",
        "        'size'   : 12}\n",
        "plt.rc('font', **font)\n",
        "sns.set_theme(color_codes=True)\n",
        "%matplotlib inline"
      ]
    },
    {
      "cell_type": "code",
      "execution_count": null,
      "metadata": {
        "id": "Jidb1m9KzCrU"
      },
      "outputs": [],
      "source": [
        "# compressing unnecessary warnings\n",
        "import warnings\n",
        "warnings.filterwarnings(\"ignore\")"
      ]
    },
    {
      "cell_type": "code",
      "execution_count": null,
      "metadata": {
        "colab": {
          "base_uri": "https://localhost:8080/"
        },
        "id": "0VmGoykMzOE7",
        "outputId": "0af29936-099b-4858-bbf2-28bc715a2100"
      },
      "outputs": [
        {
          "output_type": "stream",
          "name": "stdout",
          "text": [
            "Mounted at /content/drive\n"
          ]
        }
      ],
      "source": [
        "# accessing the drive to get the data\n",
        "from google.colab import drive\n",
        "drive.mount('/content/drive', force_remount=True)"
      ]
    },
    {
      "cell_type": "code",
      "execution_count": null,
      "metadata": {
        "id": "VOqrFmWvzYdC"
      },
      "outputs": [],
      "source": [
        "# GLOBAL CONSTANT AND FUNCTIONS\n",
        "dictMapping = { \"ATMチャージ\" : \"ATMcharge\", \\\n",
        "                \"その他\" : \"others\", \\\n",
        "                \"エンタメ\" : \"Entertainment\", \\\n",
        "                \"カフェ\" : \"Cafe\", \\\n",
        "                \"クリーニング\" : \"cleaning\", \\\n",
        "                \"グルメ\" : \"Gourmet\", \\\n",
        "                \"コンビニ\" : \"convenienceStore\", \\\n",
        "                \"ショッピング\" : \"shopping\", \\\n",
        "                \"スーパーマーケット\" : \"supermarket\", \\\n",
        "                \"ドラッグストア・薬局\" : \"Pharmacy\", \\\n",
        "                \"ファッション\" : \"fashion\", \\\n",
        "                \"ホテル・旅館\" : \"Hotel\", \\\n",
        "                \"マッサージ\" : \"Massage\", \\\n",
        "                \"家電・携帯電話\" : \"Appliances\", \\\n",
        "                \"病院・クリニック\" : \"Hospital\", \\\n",
        "                \"百貨店・ショッピングセンター\" : \"shoppingCenter\", \\\n",
        "                \"美容院・サロン\" : \"salon\" }\n",
        "\n",
        "JAPAN_HOLIDAYS = {}\n",
        "for holiday in holidays.Japan(years=[2020, 2021, 2022]).items():\n",
        "    if holiday in JAPAN_HOLIDAYS:\n",
        "        pass\n",
        "    else:\n",
        "        keys = str(holiday[0]).strip().split('-')\n",
        "        key = '-'.join(keys[:2])\n",
        "        JAPAN_HOLIDAYS[key] = True\n",
        "\n",
        "# adding the City and state\n",
        "def geocoder(data):\n",
        "    results = rg.search(data)\n",
        "    return results\n",
        "\n",
        "def findDay(date):\n",
        "    \"\"\"\n",
        "    return the day Status\n",
        "    \"\"\"\n",
        "    year, month, day = (int(i) for i in date.split('-'))\n",
        "    dayNumber = calendar.weekday(year, month, day)\n",
        "    return dayNumber\n",
        "\n",
        "def weekDayORweekEnd(date):\n",
        "    \"\"\"\n",
        "    return the status of date as weekend or weekday\n",
        "    \"\"\"\n",
        "    year, month, day = (int(i) for i in date.split('-'))\n",
        "    dayNumber = calendar.weekday(year, month, day)\n",
        "    if dayNumber >= 5 and dayNumber <= 6:\n",
        "        return 1\n",
        "    else:\n",
        "        return 0\n",
        "\n",
        "def QuaterStatus(date):\n",
        "    \"\"\"\n",
        "    return the Status of Quarter\n",
        "    \"\"\"\n",
        "    _, month, _ = (int(i) for i in date.split('-'))\n",
        "    return math.ceil(month / 3)\n",
        "\n",
        "def numOfDays(date):\n",
        "    year, month, day = (int(i) for i in date.split('-'))\n",
        "    dateStart = datetime.date(year, month, day)\n",
        "    dateEnd = datetime.date(year, 12, 31)\n",
        "    return (dateEnd - dateStart).days\n",
        "\n",
        "def IsHolidayInMonth(date):\n",
        "    keys = date.strip().split('-')\n",
        "    key = '-'.join(keys[:2])\n",
        "    if key in JAPAN_HOLIDAYS:\n",
        "        return 1\n",
        "    else:\n",
        "        return 0\n",
        "\n",
        "def monthStatus(date):\n",
        "    \"\"\"\n",
        "    return the Status of Month\n",
        "    \"\"\"\n",
        "    _, month, _ = (int(i) for i in date.split('-'))\n",
        "    return month\n",
        "\n",
        "def dayStatus(date):\n",
        "    \"\"\"\n",
        "    return the Status of Day\n",
        "    \"\"\"\n",
        "    _, _, day = (int(i) for i in date.split('-'))\n",
        "    return day\n",
        "\n",
        "def IsMidWeek(date):\n",
        "    \"\"\"\n",
        "    return the Mid-week Status\n",
        "    \"\"\"\n",
        "    year, month, day = (int(i) for i in date.split('-'))\n",
        "    dayNumber = calendar.weekday(year, month, day)\n",
        "    if dayNumber == 2:\n",
        "        return 1\n",
        "    else:\n",
        "        return 0"
      ]
    },
    {
      "cell_type": "markdown",
      "metadata": {
        "id": "YEp966HGs4tj"
      },
      "source": [
        "#<font color='green'><b>DATA IMPUTATION</b></font>"
      ]
    },
    {
      "cell_type": "code",
      "execution_count": null,
      "metadata": {
        "id": "DFeGU7h0asGV"
      },
      "outputs": [],
      "source": [
        "# data loading\n",
        "stores = pd.read_csv('drive/MyDrive/PayPayDataset/stores.csv', sep = ',')\n",
        "stores.rename(columns={'id': 'store_id'}, inplace=True)\n",
        "transactions = pd.read_csv('drive/MyDrive/PayPayDataset/transactions.csv', sep = ',')\n",
        "users = pd.read_csv('drive/MyDrive/PayPayDataset/users.csv', sep = ',')\n",
        "users.rename(columns={'id': 'user_id'}, inplace=True)"
      ]
    },
    {
      "cell_type": "code",
      "execution_count": null,
      "metadata": {
        "id": "u-x4fzjXcWxF"
      },
      "outputs": [],
      "source": [
        "# merging files\n",
        "storetranscations = pd.merge(stores, transactions, left_on = 'store_id', right_on = 'store_id', \\\n",
        "                             left_index = False, right_index = False )\n",
        "dataset = pd.merge(storetranscations, users, left_on = 'user_id', right_on = 'user_id', \\\n",
        "                            left_index = False, right_index = False )"
      ]
    },
    {
      "cell_type": "code",
      "execution_count": null,
      "metadata": {
        "colab": {
          "base_uri": "https://localhost:8080/",
          "height": 300
        },
        "id": "rn6jb_TLg65G",
        "outputId": "20aae7ec-5741-47cc-ffbe-82efbbbbf156"
      },
      "outputs": [
        {
          "output_type": "execute_result",
          "data": {
            "text/plain": [
              "                lat           lon        amount           age\n",
              "count  1.582260e+06  1.582260e+06  1.582260e+06  1.505614e+06\n",
              "mean   3.553551e+01  1.370689e+02  1.703913e+03  5.001282e+01\n",
              "std    2.194248e+00  3.368230e+00  5.361803e+03  1.911783e+01\n",
              "min    2.435114e+01  1.238093e+02  2.000000e+00  1.500000e+01\n",
              "25%    3.467408e+01  1.353256e+02  3.320000e+02  3.400000e+01\n",
              "50%    3.538779e+01  1.379939e+02  7.320000e+02  4.900000e+01\n",
              "75%    3.586862e+01  1.397033e+02  1.675000e+03  6.500000e+01\n",
              "max    4.543397e+01  1.461748e+02  1.883119e+06  9.000000e+01"
            ],
            "text/html": [
              "\n",
              "  <div id=\"df-d919b5b9-859e-4c6d-93e4-9c691f754c9f\">\n",
              "    <div class=\"colab-df-container\">\n",
              "      <div>\n",
              "<style scoped>\n",
              "    .dataframe tbody tr th:only-of-type {\n",
              "        vertical-align: middle;\n",
              "    }\n",
              "\n",
              "    .dataframe tbody tr th {\n",
              "        vertical-align: top;\n",
              "    }\n",
              "\n",
              "    .dataframe thead th {\n",
              "        text-align: right;\n",
              "    }\n",
              "</style>\n",
              "<table border=\"1\" class=\"dataframe\">\n",
              "  <thead>\n",
              "    <tr style=\"text-align: right;\">\n",
              "      <th></th>\n",
              "      <th>lat</th>\n",
              "      <th>lon</th>\n",
              "      <th>amount</th>\n",
              "      <th>age</th>\n",
              "    </tr>\n",
              "  </thead>\n",
              "  <tbody>\n",
              "    <tr>\n",
              "      <th>count</th>\n",
              "      <td>1.582260e+06</td>\n",
              "      <td>1.582260e+06</td>\n",
              "      <td>1.582260e+06</td>\n",
              "      <td>1.505614e+06</td>\n",
              "    </tr>\n",
              "    <tr>\n",
              "      <th>mean</th>\n",
              "      <td>3.553551e+01</td>\n",
              "      <td>1.370689e+02</td>\n",
              "      <td>1.703913e+03</td>\n",
              "      <td>5.001282e+01</td>\n",
              "    </tr>\n",
              "    <tr>\n",
              "      <th>std</th>\n",
              "      <td>2.194248e+00</td>\n",
              "      <td>3.368230e+00</td>\n",
              "      <td>5.361803e+03</td>\n",
              "      <td>1.911783e+01</td>\n",
              "    </tr>\n",
              "    <tr>\n",
              "      <th>min</th>\n",
              "      <td>2.435114e+01</td>\n",
              "      <td>1.238093e+02</td>\n",
              "      <td>2.000000e+00</td>\n",
              "      <td>1.500000e+01</td>\n",
              "    </tr>\n",
              "    <tr>\n",
              "      <th>25%</th>\n",
              "      <td>3.467408e+01</td>\n",
              "      <td>1.353256e+02</td>\n",
              "      <td>3.320000e+02</td>\n",
              "      <td>3.400000e+01</td>\n",
              "    </tr>\n",
              "    <tr>\n",
              "      <th>50%</th>\n",
              "      <td>3.538779e+01</td>\n",
              "      <td>1.379939e+02</td>\n",
              "      <td>7.320000e+02</td>\n",
              "      <td>4.900000e+01</td>\n",
              "    </tr>\n",
              "    <tr>\n",
              "      <th>75%</th>\n",
              "      <td>3.586862e+01</td>\n",
              "      <td>1.397033e+02</td>\n",
              "      <td>1.675000e+03</td>\n",
              "      <td>6.500000e+01</td>\n",
              "    </tr>\n",
              "    <tr>\n",
              "      <th>max</th>\n",
              "      <td>4.543397e+01</td>\n",
              "      <td>1.461748e+02</td>\n",
              "      <td>1.883119e+06</td>\n",
              "      <td>9.000000e+01</td>\n",
              "    </tr>\n",
              "  </tbody>\n",
              "</table>\n",
              "</div>\n",
              "      <button class=\"colab-df-convert\" onclick=\"convertToInteractive('df-d919b5b9-859e-4c6d-93e4-9c691f754c9f')\"\n",
              "              title=\"Convert this dataframe to an interactive table.\"\n",
              "              style=\"display:none;\">\n",
              "        \n",
              "  <svg xmlns=\"http://www.w3.org/2000/svg\" height=\"24px\"viewBox=\"0 0 24 24\"\n",
              "       width=\"24px\">\n",
              "    <path d=\"M0 0h24v24H0V0z\" fill=\"none\"/>\n",
              "    <path d=\"M18.56 5.44l.94 2.06.94-2.06 2.06-.94-2.06-.94-.94-2.06-.94 2.06-2.06.94zm-11 1L8.5 8.5l.94-2.06 2.06-.94-2.06-.94L8.5 2.5l-.94 2.06-2.06.94zm10 10l.94 2.06.94-2.06 2.06-.94-2.06-.94-.94-2.06-.94 2.06-2.06.94z\"/><path d=\"M17.41 7.96l-1.37-1.37c-.4-.4-.92-.59-1.43-.59-.52 0-1.04.2-1.43.59L10.3 9.45l-7.72 7.72c-.78.78-.78 2.05 0 2.83L4 21.41c.39.39.9.59 1.41.59.51 0 1.02-.2 1.41-.59l7.78-7.78 2.81-2.81c.8-.78.8-2.07 0-2.86zM5.41 20L4 18.59l7.72-7.72 1.47 1.35L5.41 20z\"/>\n",
              "  </svg>\n",
              "      </button>\n",
              "      \n",
              "  <style>\n",
              "    .colab-df-container {\n",
              "      display:flex;\n",
              "      flex-wrap:wrap;\n",
              "      gap: 12px;\n",
              "    }\n",
              "\n",
              "    .colab-df-convert {\n",
              "      background-color: #E8F0FE;\n",
              "      border: none;\n",
              "      border-radius: 50%;\n",
              "      cursor: pointer;\n",
              "      display: none;\n",
              "      fill: #1967D2;\n",
              "      height: 32px;\n",
              "      padding: 0 0 0 0;\n",
              "      width: 32px;\n",
              "    }\n",
              "\n",
              "    .colab-df-convert:hover {\n",
              "      background-color: #E2EBFA;\n",
              "      box-shadow: 0px 1px 2px rgba(60, 64, 67, 0.3), 0px 1px 3px 1px rgba(60, 64, 67, 0.15);\n",
              "      fill: #174EA6;\n",
              "    }\n",
              "\n",
              "    [theme=dark] .colab-df-convert {\n",
              "      background-color: #3B4455;\n",
              "      fill: #D2E3FC;\n",
              "    }\n",
              "\n",
              "    [theme=dark] .colab-df-convert:hover {\n",
              "      background-color: #434B5C;\n",
              "      box-shadow: 0px 1px 3px 1px rgba(0, 0, 0, 0.15);\n",
              "      filter: drop-shadow(0px 1px 2px rgba(0, 0, 0, 0.3));\n",
              "      fill: #FFFFFF;\n",
              "    }\n",
              "  </style>\n",
              "\n",
              "      <script>\n",
              "        const buttonEl =\n",
              "          document.querySelector('#df-d919b5b9-859e-4c6d-93e4-9c691f754c9f button.colab-df-convert');\n",
              "        buttonEl.style.display =\n",
              "          google.colab.kernel.accessAllowed ? 'block' : 'none';\n",
              "\n",
              "        async function convertToInteractive(key) {\n",
              "          const element = document.querySelector('#df-d919b5b9-859e-4c6d-93e4-9c691f754c9f');\n",
              "          const dataTable =\n",
              "            await google.colab.kernel.invokeFunction('convertToInteractive',\n",
              "                                                     [key], {});\n",
              "          if (!dataTable) return;\n",
              "\n",
              "          const docLinkHtml = 'Like what you see? Visit the ' +\n",
              "            '<a target=\"_blank\" href=https://colab.research.google.com/notebooks/data_table.ipynb>data table notebook</a>'\n",
              "            + ' to learn more about interactive tables.';\n",
              "          element.innerHTML = '';\n",
              "          dataTable['output_type'] = 'display_data';\n",
              "          await google.colab.output.renderOutput(dataTable, element);\n",
              "          const docLink = document.createElement('div');\n",
              "          docLink.innerHTML = docLinkHtml;\n",
              "          element.appendChild(docLink);\n",
              "        }\n",
              "      </script>\n",
              "    </div>\n",
              "  </div>\n",
              "  "
            ]
          },
          "metadata": {},
          "execution_count": 10
        }
      ],
      "source": [
        "dataset.describe()"
      ]
    },
    {
      "cell_type": "code",
      "execution_count": null,
      "metadata": {
        "colab": {
          "base_uri": "https://localhost:8080/"
        },
        "id": "oPAy3810rHDd",
        "outputId": "0db507ca-e4b5-4786-bfc9-21771dc9d7dd"
      },
      "outputs": [
        {
          "output_type": "execute_result",
          "data": {
            "text/plain": [
              "store_id             object\n",
              "nam                  object\n",
              "laa                  object\n",
              "category             object\n",
              "lat                 float64\n",
              "lon                 float64\n",
              "id                   object\n",
              "user_id              object\n",
              "event_occurrence     object\n",
              "amount                int64\n",
              "gender               object\n",
              "age                 float64\n",
              "dtype: object"
            ]
          },
          "metadata": {},
          "execution_count": 11
        }
      ],
      "source": [
        "dataset.dtypes"
      ]
    },
    {
      "cell_type": "code",
      "execution_count": null,
      "metadata": {
        "colab": {
          "base_uri": "https://localhost:8080/"
        },
        "id": "CIw7SCbRsaN4",
        "outputId": "241ff249-a4b7-4d08-8cf0-15271cdfaafd"
      },
      "outputs": [
        {
          "output_type": "stream",
          "name": "stdout",
          "text": [
            "store_id                 0\n",
            "nam                      0\n",
            "laa                      0\n",
            "category                 0\n",
            "lat                      0\n",
            "lon                      0\n",
            "id                       0\n",
            "user_id                  0\n",
            "event_occurrence         0\n",
            "amount                   0\n",
            "gender              160282\n",
            "age                  76646\n",
            "dtype: int64\n"
          ]
        }
      ],
      "source": [
        "print(dataset.isnull().sum())"
      ]
    },
    {
      "cell_type": "code",
      "execution_count": null,
      "metadata": {
        "colab": {
          "base_uri": "https://localhost:8080/"
        },
        "id": "6iY1mMTUtO2R",
        "outputId": "dd832144-9b12-45a0-8bda-66081a9d842f"
      },
      "outputs": [
        {
          "output_type": "stream",
          "name": "stdout",
          "text": [
            "store_id                0\n",
            "nam                     0\n",
            "laa                     0\n",
            "category                0\n",
            "lat                     0\n",
            "lon                     0\n",
            "id                      0\n",
            "user_id                 0\n",
            "event_occurrence        0\n",
            "amount                  0\n",
            "gender                  0\n",
            "age                 76646\n",
            "dtype: int64\n"
          ]
        }
      ],
      "source": [
        "#  'gender' field is a categorical so we thought the missing value could be considered a field\n",
        "dataset['gender'].fillna('NOTDEFINED', inplace = True)\n",
        "print(dataset.isnull().sum())"
      ]
    },
    {
      "cell_type": "code",
      "execution_count": null,
      "metadata": {
        "id": "JY32o4kTx8oE"
      },
      "outputs": [],
      "source": [
        "\"\"\"\n",
        " 'age' field is a real value in nature thus a brute force solution is to replace\n",
        " the value with the average of the column however we thought it is making more\n",
        " sense to fill this value based on considering the field 'category' field because certain\n",
        " age of people visits a certain kind of stores. Thus, we replace age with the grouping\n",
        " of the 'category' field's median value.\n",
        "\"\"\"\n",
        "ageImputation = dict(dataset.groupby(['category']).median()['age'])\n",
        "for idx, row in dataset.iterrows():\n",
        "    if math.isnan(row.age):\n",
        "        if row.category in ageImputation:\n",
        "            dataset.loc[idx, 'age'] = float(int(ageImputation[row.category]))"
      ]
    },
    {
      "cell_type": "code",
      "execution_count": null,
      "metadata": {
        "colab": {
          "base_uri": "https://localhost:8080/"
        },
        "id": "UejIpcknot7Y",
        "outputId": "09d9f745-7d3c-4b8e-91e7-d19adf26a278"
      },
      "outputs": [
        {
          "output_type": "execute_result",
          "data": {
            "text/plain": [
              "store_id            0\n",
              "nam                 0\n",
              "laa                 0\n",
              "category            0\n",
              "lat                 0\n",
              "lon                 0\n",
              "id                  0\n",
              "user_id             0\n",
              "event_occurrence    0\n",
              "amount              0\n",
              "gender              0\n",
              "age                 0\n",
              "dtype: int64"
            ]
          },
          "metadata": {},
          "execution_count": 15
        }
      ],
      "source": [
        "dataset.isnull().sum()"
      ]
    },
    {
      "cell_type": "markdown",
      "metadata": {
        "id": "oAt4418-wYas"
      },
      "source": [
        "##<font color='green'><b>CONCLUSION</b></font>"
      ]
    },
    {
      "cell_type": "markdown",
      "metadata": {
        "id": "iwDLEMuCvLhr"
      },
      "source": [
        "> - *We saw two fields namely age and gender having the Null.*\n",
        "> - *The 'gender' field is categorical so we thought the missing value could be considered a field.*\n",
        "> - *The 'age' field is real value in nature thus a brute force solution is to replace the value with the average of the column however we thought it is making more sense to fill this value based on considering the field ''category' because certain age of people visits a certain kind of stores. Thus, we replace age with the grouping of the 'category' field's median value.*"
      ]
    },
    {
      "cell_type": "markdown",
      "metadata": {
        "id": "zN9C8ZCRtHqo"
      },
      "source": [
        "#<font color='green'><b>EXPLORATORY DATA ANALYSIS (EDA)</b></font>"
      ]
    },
    {
      "cell_type": "markdown",
      "metadata": {
        "id": "yvYMCcdUEAK5"
      },
      "source": [
        "The attribute details are\n",
        "* \"store_id\": Unique ID for defining the unique store, alphanumeric attribute\n",
        "* \"nam\": Text attribute\n",
        "* \"laa\": Text attribute\n",
        "* \"category\": A categorical attribute\n",
        "* \"lat\": A real-value attribute\n",
        "* \"lon\": A real-value attribute\n",
        "* \"id\": Unique Identifier for identifying the transactions\n",
        "* \"user_id\": Unique ID for defining the unique user, alphanumeric attribute\n",
        "* \"event_occurrence\": Event Id alphanumeric attribute\n",
        "* \"amount\": A real-value attribute\n",
        "* \"gender\": A categorical attribute\n",
        "* \"age\": A real-value attribute"
      ]
    },
    {
      "cell_type": "markdown",
      "metadata": {
        "id": "KhilB_IE3KrS"
      },
      "source": [
        "##<font color='green'><b>UNIVARIATE ANALYSIS</b></font>\n",
        "\n"
      ]
    },
    {
      "cell_type": "markdown",
      "metadata": {
        "id": "vWP7I26K3S4D"
      },
      "source": [
        "###<font color='green'><b>AMOUNT PATTERN </b></font>"
      ]
    },
    {
      "cell_type": "markdown",
      "metadata": {
        "id": "cN2YTnAA_jGb"
      },
      "source": [
        "* Spending power analysis for each user"
      ]
    },
    {
      "cell_type": "code",
      "source": [
        " dataset['event_occurrence_temp'] = dataset['event_occurrence'].apply(lambda x: int(x.split()[0].replace('-', '')))\n",
        " dataset_sorted = dataset.sort_values(['event_occurrence_temp', 'user_id', 'store_id'], ascending = True)"
      ],
      "metadata": {
        "id": "QPl4ka885JjF"
      },
      "execution_count": null,
      "outputs": []
    },
    {
      "cell_type": "code",
      "source": [
        "dataset_sorted = dataset_sorted[dataset_sorted['amount'] <= 40]"
      ],
      "metadata": {
        "id": "RNaSHbPhOVhc"
      },
      "execution_count": null,
      "outputs": []
    },
    {
      "cell_type": "code",
      "source": [
        "len(dataset_sorted)"
      ],
      "metadata": {
        "colab": {
          "base_uri": "https://localhost:8080/"
        },
        "id": "6FypdcADRRKr",
        "outputId": "205db30c-63d3-4c64-aaa3-0353b6ea68a0"
      },
      "execution_count": null,
      "outputs": [
        {
          "output_type": "execute_result",
          "data": {
            "text/plain": [
              "11596"
            ]
          },
          "metadata": {},
          "execution_count": 66
        }
      ]
    },
    {
      "cell_type": "code",
      "source": [
        "count = 0\n",
        "for i, j in dict(dataset_sorted['amount'].value_counts()).items():\n",
        "\n",
        "    if j >= 0 and j <= 3:\n",
        "        count += 1\n",
        "print(count)"
      ],
      "metadata": {
        "colab": {
          "base_uri": "https://localhost:8080/"
        },
        "id": "P-arh9Mn_p55",
        "outputId": "8d81e3a9-1bbb-4713-ee7e-eec345c2a78f"
      },
      "execution_count": null,
      "outputs": [
        {
          "output_type": "stream",
          "name": "stdout",
          "text": [
            "13614\n"
          ]
        }
      ]
    },
    {
      "cell_type": "code",
      "source": [
        "import matplotlib.ticker as ticker\n",
        "formatter = ticker.ScalarFormatter()\n",
        "formatter.set_powerlimits((0,1000))\n",
        "plt.gca().yaxis.set_major_formatter(formatter)\n",
        "plt.scatter(range(1, len(dataset_sorted['amount']) + 1), dataset_sorted['amount'])\n",
        "plt.figure(figsize=(15, 8))\n",
        "plt.show()"
      ],
      "metadata": {
        "colab": {
          "base_uri": "https://localhost:8080/",
          "height": 452
        },
        "id": "L-MK5vVz6Ozm",
        "outputId": "884f2c7c-f69a-432e-ba53-58ea2148201d"
      },
      "execution_count": null,
      "outputs": [
        {
          "output_type": "display_data",
          "data": {
            "text/plain": [
              "<Figure size 640x480 with 1 Axes>"
            ],
            "image/png": "[encoded data removed]"
          },
          "metadata": {}
        },
        {
          "output_type": "display_data",
          "data": {
            "text/plain": [
              "<Figure size 1500x800 with 0 Axes>"
            ]
          },
          "metadata": {}
        }
      ]
    },
    {
      "cell_type": "code",
      "source": [
        "y = sorted(set(dataset['amount'].values))\n",
        "plt.plot( y)\n",
        "plt.xlabel('transcations Index')\n",
        "plt.ylabel('amount spent')\n",
        "plt.title('Amount Spend per transcation')\n",
        "plt.grid()\n",
        "plt.show()"
      ],
      "metadata": {
        "id": "7kIyhfMK35G9"
      },
      "execution_count": null,
      "outputs": []
    },
    {
      "cell_type": "code",
      "execution_count": null,
      "metadata": {
        "id": "vs0WwjNBx2fL"
      },
      "outputs": [],
      "source": [
        "y = sorted(set(dataset['amount'].values))\n",
        "plt.plot( y)\n",
        "plt.xlabel('transcations Index')\n",
        "plt.ylabel('amount spent')\n",
        "plt.title('Amount Spend per transcation')\n",
        "plt.grid()\n",
        "plt.show()"
      ]
    },
    {
      "cell_type": "code",
      "execution_count": null,
      "metadata": {
        "id": "Dngkw_oo-PgJ"
      },
      "outputs": [],
      "source": [
        "# cheking the percantage above 9000\n",
        "LIMIT = 9000\n",
        "filtervalues = sorted([i for i in dataset['amount'].values if i > LIMIT ])\n",
        "print('Percentage of values above {} is {}'.format(LIMIT, (len(filtervalues) * 100)/len(dataset)))"
      ]
    },
    {
      "cell_type": "markdown",
      "metadata": {
        "id": "q8wlI6U7BJab"
      },
      "source": [
        "> - *We saw there is a sudden jump in the amount spent for some transactions. Thus, very very few users are spending large amounts otherwise most of the users spent a nominal amount.*\n",
        "> - *We've inspected this jump deeper and found that an amount greater than 9000 covers 2.5 % of our entire.*"
      ]
    },
    {
      "cell_type": "markdown",
      "metadata": {
        "id": "2dzBNlc9Ep3P"
      },
      "source": [
        "###<font color='green'><b>AGE PATTERN</b></font>"
      ]
    },
    {
      "cell_type": "markdown",
      "metadata": {
        "id": "HPhAx42iFFF0"
      },
      "source": [
        "* Understanding which age group users shop more across all the stores"
      ]
    },
    {
      "cell_type": "code",
      "execution_count": null,
      "metadata": {
        "id": "Rn_CudMdCIZ9"
      },
      "outputs": [],
      "source": [
        "dataValues = dataset['age'].values\n",
        "count = {'11-20' : 0,\n",
        "        '21-30' : 0, '31-40' : 0,\n",
        "        '41-50' : 0, '51-60' : 0,\n",
        "        '61-70' : 0, '71-80' : 0,\n",
        "        '81-90' : 0}\n",
        "for data in dataValues:\n",
        "    if data >= 11 and data <= 20:\n",
        "        count['11-20'] += 1\n",
        "    if data >= 21 and data <= 30:\n",
        "        count['21-30'] += 1\n",
        "    if data >= 31 and data < 40:\n",
        "        count['31-40'] += 1\n",
        "    if data >= 41 and data <= 50:\n",
        "        count['41-50'] += 1\n",
        "    if data >= 51 and data <= 60:\n",
        "        count['51-60'] += 1\n",
        "    if data >= 61 and data <= 70:\n",
        "        count['61-70'] += 1\n",
        "    if data >= 71 and data <= 80:\n",
        "        count['71-80'] += 1\n",
        "    if data >= 81 and data <= 90:\n",
        "        count['81-90'] += 1\n",
        "\n",
        "\n",
        "plt.figure(figsize=(10, 4))\n",
        "colors  = (\"darkorange\", \"darkseagreen\", \"orange\", \"cyan\",\n",
        "           \"hotpink\", \"lightsteelblue\", \"coral\",  \"mediumaquamarine\")\n",
        "explodes = [0.25, 0.25, 0.25, 0.25, 0.25, 0.25, 0.25, 0.25]\n",
        "plt.pie(np.array(list(count.values())), labels = [ i + \" age\" for i in count.keys()],\n",
        "                                                 textprops={'fontsize': 12},\n",
        "                                                 autopct = '%4.1f',\n",
        "                                                 startangle= 90,\n",
        "                                                 radius =2,\n",
        "                                                 rotatelabels=True,\n",
        "                                                 shadow = True, explode = explodes)\n",
        "plt.show()"
      ]
    },
    {
      "cell_type": "code",
      "execution_count": null,
      "metadata": {
        "id": "ZD8o1GZeEvQi"
      },
      "outputs": [],
      "source": [
        "sns.boxplot(x=dataset['age'])\n",
        "plt.title('User Age Distribution per transcations')\n",
        "plt.grid()\n",
        "plt.show()"
      ]
    },
    {
      "cell_type": "markdown",
      "metadata": {
        "id": "Q4zUl_sECz6p"
      },
      "source": [
        "> * If we count the number of user in 10 years of age bin then we saw that the user between ages 40 to 50 years shops more than compare to other age group users.\n",
        "> * We also observe that users between the age of 35 to 65 years are the majority of users."
      ]
    },
    {
      "cell_type": "markdown",
      "metadata": {
        "id": "FOhSwLPoDSls"
      },
      "source": [
        "###<font color='green'><b>CATEGORY FIELD</b></font>"
      ]
    },
    {
      "cell_type": "code",
      "execution_count": null,
      "metadata": {
        "id": "4NClHOFF5USY"
      },
      "outputs": [],
      "source": [
        "%%bash\n",
        "\n",
        "numberOfcategory=$(cat drive/MyDrive/PayPayDataset/stores.csv | \\\n",
        "                        cut -d ',' -f4 | tail -n+2 | \\\n",
        "                        sort | sort -u | \\\n",
        "                        wc -l)\n",
        "echo \"Total #f Categories are ${numberOfcategory}\"\n",
        "echo -e \"\\n\\nCategories are:::: \\n\"\n",
        "\n",
        "for type in $(cat drive/MyDrive/PayPayDataset/stores.csv | \\\n",
        "                cut -d ',' -f4 | tail -n+2 | \\\n",
        "                sort | sort -u)\n",
        "do\n",
        "    echo -e \"\\t${type}\"\n",
        "done\n"
      ]
    },
    {
      "cell_type": "code",
      "execution_count": null,
      "metadata": {
        "id": "VQJDi92yJvc7"
      },
      "outputs": [],
      "source": [
        "data = dict(Counter(sorted(dataset['category'].values)))\n",
        "category_names = list(data.keys())\n",
        "category_counts = list(data.values())\n",
        "\n",
        "category_names_translated = []\n",
        "for i in category_names:\n",
        "    if i in dictMapping:\n",
        "        category_names_translated.append(dictMapping[i])\n",
        "x = list(range(len(category_names_translated)))\n",
        "plt.figure(figsize=(10, 4))\n",
        "plt.bar(x, category_counts, color ='green', width = 0.4)\n",
        "plt.xlabel(\"Categories\")\n",
        "plt.ylabel(\"#f transcations\")\n",
        "plt.xticks(x, category_names_translated, fontsize=12, rotation=85)\n",
        "plt.title(\"Categories per transcations\")\n",
        "plt.grid()\n",
        "plt.show()\n"
      ]
    },
    {
      "cell_type": "markdown",
      "metadata": {
        "id": "HVCVe-R1qCRV"
      },
      "source": [
        "> - *We see the majority of the transaction is done in the convenience store.*\n",
        "> - *Among all the 17 categories, only 16 are the categories on which user spend money.*"
      ]
    },
    {
      "cell_type": "markdown",
      "metadata": {
        "id": "leojX04SNYXN"
      },
      "source": [
        "###<font color='green'><b>GENDER FIELD </b></font>"
      ]
    },
    {
      "cell_type": "markdown",
      "metadata": {
        "id": "3NAIO2YaNjKs"
      },
      "source": [
        "* Understanding the user characteristics based on their gender"
      ]
    },
    {
      "cell_type": "code",
      "execution_count": null,
      "metadata": {
        "id": "ohepGJPhNy6G"
      },
      "outputs": [],
      "source": [
        "data = dict(Counter(dataset['gender'].values))\n",
        "category_names = list(data.keys())\n",
        "category_counts = list(data.values())\n",
        "x = list(range(len(category_names)))\n",
        "plt.figure(figsize=(10, 4))\n",
        "plt.bar(x, category_counts, color ='green', width = 0.4)\n",
        "plt.xlabel('Gender')\n",
        "plt.ylabel(\"#f transcations\")\n",
        "plt.xticks(x, category_names, fontsize=12, rotation=85)\n",
        "plt.title(\"transcations on users based on Gender\")\n",
        "plt.grid()\n",
        "plt.show()"
      ]
    },
    {
      "cell_type": "markdown",
      "metadata": {
        "id": "AvaKM_ukxK-l"
      },
      "source": [
        "> - *We saw that the majority of users are Males*"
      ]
    },
    {
      "cell_type": "markdown",
      "metadata": {
        "id": "CAqO_AF_JVSB"
      },
      "source": [
        "###<font color='green'><b>LAT & LONG FIELD</b></font>"
      ]
    },
    {
      "cell_type": "markdown",
      "metadata": {
        "id": "cvT5_R-Gq8VC"
      },
      "source": [
        "* Analyzing the store coordinates\n",
        "> Co-ordinates belong to Japan's cities only or should be legitimate enough"
      ]
    },
    {
      "cell_type": "code",
      "execution_count": null,
      "metadata": {
        "id": "h_3zkle8Zibg"
      },
      "outputs": [],
      "source": [
        "%%bash\n",
        "cat drive/MyDrive/PayPayDataset/stores.csv | cut -d ',' -f5,6 | tail -n+2 | sort | sort -u > locations.txt"
      ]
    },
    {
      "cell_type": "code",
      "execution_count": null,
      "metadata": {
        "id": "RW_K8oF6uQiV"
      },
      "outputs": [],
      "source": [
        "locations = []\n",
        "with open('locations.txt') as f:\n",
        "    lines = f.readlines()\n",
        "    for line in lines:\n",
        "        temp = [float(line.split(',')[0]), float(line.split(',')[1])]\n",
        "        locations.append(temp)"
      ]
    },
    {
      "cell_type": "code",
      "execution_count": null,
      "metadata": {
        "id": "97jLtMXvJbOf"
      },
      "outputs": [],
      "source": [
        "map_osm = folium.Map(location=[36.2048, 138.2529], tiles='Stamen Toner')\n",
        "\n",
        "for i in locations[:255]:\n",
        "    folium.Marker(list((i[0],i[1]))).add_to(map_osm)\n"
      ]
    },
    {
      "cell_type": "code",
      "execution_count": null,
      "metadata": {
        "id": "W_RIH1T7CUiY"
      },
      "outputs": [],
      "source": [
        "map_osm"
      ]
    },
    {
      "cell_type": "markdown",
      "metadata": {
        "id": "lQFMPqzEESGq"
      },
      "source": [
        "> - *We see from the above map plot of points, some of the store co-ordinates are out of Japan or some of them are in sea.*\n",
        "> - *We know from the Business problem that YayYay is Japan based company thus the stores also belong to Japan only.*\n"
      ]
    },
    {
      "cell_type": "markdown",
      "metadata": {
        "id": "1rUEwRStNCDa"
      },
      "source": [
        " **Identifying the City which have Maximum transcations**\n",
        "> We are applying the reverse engineering by finding the cities from Latitude and Longitude. <br>\n",
        "> The goal is to identify the city which have maximum transcations."
      ]
    },
    {
      "cell_type": "code",
      "execution_count": null,
      "metadata": {
        "id": "empAGR_jOGDF"
      },
      "outputs": [],
      "source": [
        "city = []\n",
        "for i in dataset[['lat', 'lon']].values:\n",
        "    coord = (i[0], i[1])\n",
        "    city.append(coord)\n",
        "lst = [o for o in geocoder(city)]\n",
        "attrs = pd.DataFrame(lst)\n",
        "city_count  = attrs['name'].value_counts()\n",
        "print('Total number of Cities in which PayPay is present ', len(city_count))\n",
        "city_count = city_count[:10,]\n",
        "plt.figure(figsize=(15,5))\n",
        "sns.barplot(x = city_count.index, y = city_count.values, alpha=0.5)\n",
        "plt.title('YayYay in top 10 cities')\n",
        "plt.ylabel('Number of Occurrences', fontsize=12)\n",
        "plt.xlabel('city', fontsize=12)\n",
        "plt.show()\n"
      ]
    },
    {
      "cell_type": "markdown",
      "metadata": {
        "id": "h-ChZfA8WGb7"
      },
      "source": [
        "> - *Total number of Cities where YayYay is using are 747*\n",
        "> - *Top 10 Cities where PayPay is majorly using are 'Tokyo', 'Urayasu', 'Kawasaki', 'Yokohama', 'Sapporo', 'Chofugaoka',  'Nagoya-shi', 'Hiroshima-shi', 'Matsudo' and 'Machida' (sorted in increasing order)*"
      ]
    },
    {
      "cell_type": "markdown",
      "metadata": {
        "id": "MG9BsZPPW9Bb"
      },
      "source": [
        " **Identifying the States which have Maximum transcations**\n",
        "> We are applying the reverse engineering by finding the states or Prefecture from Latitude and Longitude. <br>\n",
        "> The goal is to identify the States or Prefecture which have maximum transcations."
      ]
    },
    {
      "cell_type": "code",
      "execution_count": null,
      "metadata": {
        "id": "rzUEwICFX1SD"
      },
      "outputs": [],
      "source": [
        "city = []\n",
        "for i in dataset[['lat', 'lon']].values:\n",
        "    coord = (i[0], i[1])\n",
        "    city.append(coord)\n",
        "lst = [o for o in geocoder(city)]\n",
        "attrs = pd.DataFrame(lst)\n",
        "prefecture_count  = attrs['admin1'].value_counts()\n",
        "print('Total number of Prefecture in which PayPay is present ', len(prefecture_count))\n",
        "prefecture_count = prefecture_count[:10,]\n",
        "plt.figure(figsize=(15,5))\n",
        "sns.barplot(x = prefecture_count.index, y = prefecture_count.values, alpha=0.5)\n",
        "plt.title('YayYay in top 10 Prefecture')\n",
        "plt.ylabel('Number of Occurrences', fontsize=12)\n",
        "plt.xlabel('Prefecture', fontsize=12)\n",
        "plt.show()"
      ]
    },
    {
      "cell_type": "markdown",
      "metadata": {
        "id": "8inCgthQZAhV"
      },
      "source": [
        "> - *Total number of Prefecture where YayYay is using are 51*\n",
        "> - *Top 10 Prefecture where PayPay is majorly using are 'Tokyo', 'Saitama', 'Kanagawa', 'Osaka', 'Aichi', 'Hyogo', 'Chiba', 'Fukuoka', 'Hokkaido' and 'Shizuoka' (sorted in increasing order)*"
      ]
    },
    {
      "cell_type": "markdown",
      "metadata": {
        "id": "JuHIScMo-a0b"
      },
      "source": [
        "###<font color='green'><b>DATE FIELD</b></font>"
      ]
    },
    {
      "cell_type": "markdown",
      "metadata": {
        "id": "GIfuvYOX-hgh"
      },
      "source": [
        "* We will understand the user or store behaviour based on the date attribute"
      ]
    },
    {
      "cell_type": "markdown",
      "metadata": {
        "id": "UZScmtv0_CjS"
      },
      "source": [
        "**Which Day most transcations happens**"
      ]
    },
    {
      "cell_type": "code",
      "execution_count": null,
      "metadata": {
        "id": "NOV3Z_vP-4CY"
      },
      "outputs": [],
      "source": [
        "colors  = (\"darkorange\", \"darkseagreen\", \"orange\", \"cyan\",\n",
        "           \"hotpink\", \"lightsteelblue\", \"coral\")\n",
        "explodes = [0.25, 0.25, 0.25, 0.25, 0.25, 0.25, 0.25]\n",
        "DAYS = {0 : \"Monday\", 1 : \"Tuesday\", 2 : \"Wednesday\", 3 : \"Thursday\",\n",
        "          4 : \"Friday\", 5 : \"Saturday\", 6 : \"Sunday\"}\n",
        "\n",
        "values = []\n",
        "labels = []\n",
        "for i, j in dict(Counter(dataset['event_occurrence'].\\\n",
        "                         apply(lambda x: x.split(' ')[0].strip()).\\\n",
        "                         apply(findDay).values)).items():\n",
        "    values.append(j)\n",
        "    labels.append(DAYS[i])\n",
        "\n",
        "plt.pie(values, \\\n",
        "            labels = labels,\n",
        "            textprops = {'fontsize': 12},\n",
        "            autopct = '%4.1f',\n",
        "            startangle = 90,\n",
        "            radius = 2,\n",
        "            rotatelabels =True,\n",
        "            shadow = True, explode = explodes)\n",
        "plt.show()"
      ]
    },
    {
      "cell_type": "markdown",
      "metadata": {
        "id": "hpZ2SM79-tyD"
      },
      "source": [
        "> - *We see most of the transcations happens in Saturday and Sunday*"
      ]
    },
    {
      "cell_type": "markdown",
      "metadata": {
        "id": "U0zHCobYEzUf"
      },
      "source": [
        "**Which Quarter most transcations happens**"
      ]
    },
    {
      "cell_type": "code",
      "execution_count": null,
      "metadata": {
        "id": "hTQ8_JBxFCXr"
      },
      "outputs": [],
      "source": [
        "colors  = (\"darkorange\", \"darkseagreen\", \"orange\", \"cyan\")\n",
        "explodes = [0.25, 0.25, 0.25, 0.25]\n",
        "QUATERSTATUS = {1 : \"FIRST QUATER\", 2 : \"SECOND QUATER\", 3 : \"THIRD QUATER\",\n",
        "          4 : \"FOURTH QUATER\"}\n",
        "\n",
        "values = []\n",
        "labels = []\n",
        "for i, j in sorted(dict(Counter(dataset['event_occurrence'].\\\n",
        "                         apply(lambda x: x.split(' ')[0].strip()).\\\n",
        "                         apply(QuaterStatus).values)).items()):\n",
        "    values.append(j)\n",
        "    labels.append(QUATERSTATUS[i])\n",
        "\n",
        "plt.pie(values, \\\n",
        "            labels = labels,\n",
        "            textprops = {'fontsize': 12},\n",
        "            autopct = '%4.1f',\n",
        "            startangle = 90,\n",
        "            radius = 2,\n",
        "            rotatelabels =True,\n",
        "            shadow = True, explode = explodes)\n",
        "plt.show()"
      ]
    },
    {
      "cell_type": "markdown",
      "metadata": {
        "id": "255LB2_wF10f"
      },
      "source": [
        "> - *We observed that most of the transcations happens in the fourth Quater*"
      ]
    },
    {
      "cell_type": "markdown",
      "metadata": {
        "id": "Fu41QaEEGLHm"
      },
      "source": [
        "**Is most transcations happens in Holiday Month or not**"
      ]
    },
    {
      "cell_type": "code",
      "execution_count": null,
      "metadata": {
        "id": "3ZYI1NK2GVJH"
      },
      "outputs": [],
      "source": [
        "category_mapping = {0 : 'NOT MONTH HOLIDAY', 1 : 'HOLIDAY MONTH'}\n",
        "category_counts = []\n",
        "category_names = []\n",
        "for i, j in dict(Counter(dataset['event_occurrence'].\\\n",
        "                         apply(lambda x: x.split(' ')[0].strip()).\\\n",
        "                         apply(IsHolidayInMonth).values)).items():\n",
        "    category_names.append(category_mapping[i])\n",
        "    category_counts.append(j)\n",
        "x = list(range(len(category_names)))\n",
        "plt.figure(figsize=(10, 4))\n",
        "plt.bar(x, category_counts, color ='green', width = 0.4)\n",
        "plt.xlabel('NOT MONTH HOLIDAY and HOLIDAY MONTH')\n",
        "plt.ylabel(\"#f transcations\")\n",
        "plt.xticks(x, category_names, fontsize=12, rotation=85)\n",
        "plt.title(\"transcations on Holiday Month or Not\")\n",
        "plt.grid()\n",
        "plt.show()"
      ]
    },
    {
      "cell_type": "markdown",
      "metadata": {
        "id": "k40bbyzTIerZ"
      },
      "source": [
        "> - *We observed that most of the transactions happened in the months which have Holidays.*"
      ]
    },
    {
      "cell_type": "markdown",
      "metadata": {
        "id": "Yz5zsW7qIyhJ"
      },
      "source": [
        "**In which month most transcations happens**"
      ]
    },
    {
      "cell_type": "code",
      "execution_count": null,
      "metadata": {
        "id": "km0H3Ws4IxpH"
      },
      "outputs": [],
      "source": [
        "category_mapping = { 1: 'January', 2 : 'February', 3 : 'March', 4 : 'April', 5 : 'May', \\\n",
        "                  6 : 'June', 7 : 'July', 8 : 'August', 9 : 'September', 10 : 'October', \\\n",
        "                  11 : 'November', 12 : 'December'}\n",
        "category_names = []\n",
        "category_counts = []\n",
        "for i, j in sorted(dict(Counter(dataset['event_occurrence'].\\\n",
        "                         apply(lambda x: x.split(' ')[0].strip()).\\\n",
        "                         apply(monthStatus).values)).items()):\n",
        "    category_names.append(category_mapping[i])\n",
        "    category_counts.append(j)\n",
        "x = list(range(len(category_names)))\n",
        "plt.figure(figsize=(10, 4))\n",
        "plt.bar(x, category_counts, color ='green', width = 0.4)\n",
        "plt.xlabel('Months')\n",
        "plt.ylabel(\"#f transcations\")\n",
        "plt.xticks(x, category_names, fontsize=12, rotation=85)\n",
        "plt.title(\"Transcations per Month\")\n",
        "plt.grid()\n",
        "plt.show()"
      ]
    },
    {
      "cell_type": "markdown",
      "metadata": {
        "id": "fH-pTpWsJ6X7"
      },
      "source": [
        "> - *Most of the transcations happens in Month of December*"
      ]
    },
    {
      "cell_type": "markdown",
      "metadata": {
        "id": "1lg4GwlCKHSw"
      },
      "source": [
        "**Is transcations happens in Weekday or Weekend**"
      ]
    },
    {
      "cell_type": "code",
      "execution_count": null,
      "metadata": {
        "id": "cqo69ny3KGkU"
      },
      "outputs": [],
      "source": [
        "category_mapping = {0 : 'weekday', 1 : 'weekend' }\n",
        "category_names = []\n",
        "category_counts = []\n",
        "for i, j in sorted(dict(Counter(dataset['event_occurrence'].\\\n",
        "                         apply(lambda x: x.split(' ')[0].strip()).\\\n",
        "                         apply(weekDayORweekEnd).values)).items()):\n",
        "    category_names.append(category_mapping[i])\n",
        "    category_counts.append(j)\n",
        "x = list(range(len(category_names)))\n",
        "plt.figure(figsize=(10, 4))\n",
        "plt.bar(x, category_counts, color ='green', width = 0.4)\n",
        "plt.xlabel('WEEKDAY AND WEEKEND')\n",
        "plt.ylabel(\"#f transcations\")\n",
        "plt.xticks(x, category_names, fontsize=12, rotation=85)\n",
        "plt.title(\"transcations on Weekday or Weekend\")\n",
        "plt.grid()\n",
        "plt.show()"
      ]
    },
    {
      "cell_type": "markdown",
      "metadata": {
        "id": "gKQ2GBBmKupY"
      },
      "source": [
        "> - *Extra transcations happened in the weekdays when compare to weekend*"
      ]
    },
    {
      "cell_type": "markdown",
      "metadata": {
        "id": "-wOnIDGHUpqJ"
      },
      "source": [
        "##<font color='green'><b>MULTI-VARIATE ANALYSIS</b></font>\n"
      ]
    },
    {
      "cell_type": "markdown",
      "metadata": {
        "id": "3i17q7rZkOa3"
      },
      "source": [
        "###<font color='green'><b>DATE vs CATEGORY vs TRANSCATION</b></font>"
      ]
    },
    {
      "cell_type": "markdown",
      "metadata": {
        "id": "zUgyo4c3YMXs"
      },
      "source": [
        "* We are trying to find on which days the most amount is spent for which categories of the store.\n"
      ]
    },
    {
      "cell_type": "code",
      "execution_count": null,
      "metadata": {
        "id": "V2MV-9IqrnBw"
      },
      "outputs": [],
      "source": [
        "DAYS = {\n",
        "        0 : \"Monday\", 1 : \"Tuesday\", 2 : \"Wednesday\",\n",
        "        3 : \"Thursday\",\n",
        "        4 : \"Friday\", 5 : \"Saturday\", 6 : \"Sunday\"\n",
        "        }\n",
        "\n",
        "date_category_transcation = dataset[['event_occurrence', 'category', 'amount']]\n",
        "date_category_transcation['event_occurrence'] = date_category_transcation['event_occurrence'].\\\n",
        "                                                apply(lambda x: x.split(' ')[0].strip())\n",
        "date_category_transcation['event_occurrence'] = date_category_transcation['event_occurrence'].\\\n",
        "                                                apply(findDay)\n",
        "date_category_transcation['event_occurrence'] = date_category_transcation['event_occurrence'].\\\n",
        "                                                apply(lambda x: DAYS[x])\n",
        "date_category_transcation['category'] = date_category_transcation['category'].\\\n",
        "                                                apply(lambda x: dictMapping[x.strip()])\n",
        "date_category_transcation.rename(columns = {'event_occurrence': 'Day'}, inplace=True)\n"
      ]
    },
    {
      "cell_type": "code",
      "execution_count": null,
      "metadata": {
        "id": "Hx_HyW9-tF0m"
      },
      "outputs": [],
      "source": [
        "plt.figure(figsize=(15,7))\n",
        "sns.set_theme(color_codes=True)\n",
        "tempdf = date_category_transcation.groupby(['category', 'Day'])[['amount']].\\\n",
        "            sum().reset_index().sort_values(by=['Day', 'category'])\n",
        "\n",
        "tempdf.sort_index(level = 0, ascending = True, inplace = True)\n",
        "\n",
        "sns.heatmap(tempdf.pivot('category', 'Day', 'amount'),\n",
        "            xticklabels = True,\n",
        "            yticklabels = True, vmin=1000,\n",
        "            linewidth = 2)\n"
      ]
    },
    {
      "cell_type": "markdown",
      "metadata": {
        "id": "yZ4IeokMt9GA"
      },
      "source": [
        "> *We saw that the most amount was spent on Saturday and Sunday for Shopping categories stores.*"
      ]
    },
    {
      "cell_type": "markdown",
      "metadata": {
        "id": "BzpUqG80H8ix"
      },
      "source": [
        "##<font color='green'><b>CONCLUSION</b></font>"
      ]
    },
    {
      "cell_type": "markdown",
      "metadata": {
        "id": "0V8wR5CtF5M3"
      },
      "source": [
        "*We found that while most transactions are for nominal amounts, some involve sudden jumps in spending. Transactions above 9000 YEN account for a small percentage of the dataset. Users aged 40-50 tend to shop more, and males are the majority. Convenience stores are the most common location for transactions. PayPay is used in 747 cities and 51 prefectures, with Tokyo being the top city. Transactions occur more on weekends, in the fourth quarter, and in months with holidays, particularly in December. Shopping category stores record the highest spending on weekends.*"
      ]
    },
    {
      "cell_type": "markdown",
      "metadata": {
        "id": "hwGfv_oIIsy1"
      },
      "source": [
        "#<font color='green'><b>DATA CLEANING"
      ]
    },
    {
      "cell_type": "markdown",
      "metadata": {
        "id": "GH_g8ICaq9mj"
      },
      "source": [
        "* We are trying to remove some data points which can be thought as a outlier.\n",
        "\n",
        "Note: Outlier can also be a true signal however it have different characterstics when compare to the mass population"
      ]
    },
    {
      "cell_type": "code",
      "execution_count": null,
      "metadata": {
        "id": "nlcLevDqIvu2"
      },
      "outputs": [],
      "source": [
        "# removing based on the spent power\n",
        "print('Before removal, the #f rows are::: \\n', len(dataset))\n",
        "dataset.drop(dataset[dataset.amount > LIMIT].index, inplace=True)\n",
        "print('After removal, the #f rows are::: \\n', len(dataset))\n",
        "dataset.reset_index(drop=True, inplace=True)"
      ]
    },
    {
      "cell_type": "code",
      "execution_count": null,
      "metadata": {
        "id": "TALhB4YiJp5L"
      },
      "outputs": [],
      "source": [
        "# removing the lat and lon which are outside of Japan\n",
        "# Credit: https://gist.github.com/graydon/11198540\n",
        "# http//www.naturalearthdata.com/download/110m/cultural/ne_110m_admin_0_countries.zip\n",
        "# LAT_MIN = 31.0295791692\n",
        "# LAT_MAX\t= 129.408463169\n",
        "# LON_MIN\t= 45.5514834662\n",
        "# LON_MAX = 145.543137242\n",
        "# print('Before removal, the #f rows are::: \\n', len(dataset))\n",
        "# dataset.drop(dataset[(dataset.lat <= LAT_MIN) | \\\n",
        "#                      (dataset.lat >= LAT_MAX) | \\\n",
        "#                      (dataset.lon <= LON_MIN) | \\\n",
        "#                      (dataset.lon >= LON_MAX)].index, inplace=True)\n",
        "# print('After removal, the #f rows are::: \\n', len(dataset))\n",
        "# dataset.reset_index(drop=True, inplace=True)"
      ]
    },
    {
      "cell_type": "markdown",
      "metadata": {
        "id": "qjR5lakStwsT"
      },
      "source": [
        "##<font color='green'><b>CONCLUSION</b></font>"
      ]
    },
    {
      "cell_type": "markdown",
      "metadata": {
        "id": "1YwsAR6ntyTC"
      },
      "source": [
        "> - *We have removed outliers based on spending power i.e, an amount spent greater than 9000. Another parameter to remove outliers is store should be inside Japan.*\n",
        "> - *We are not sure about the stores belong to Japan or not so we are removing stores based on whether they belong to Japan or not.*\n",
        "> - *The percentage of outlier are 2.5*"
      ]
    },
    {
      "cell_type": "markdown",
      "metadata": {
        "id": "60N_hj7JQGJe"
      },
      "source": [
        "#<font color='green'><b>FEATURE ENGINEERING"
      ]
    },
    {
      "cell_type": "markdown",
      "metadata": {
        "id": "yfj3r_XNeaW3"
      },
      "source": [
        "* We will try to create handcrafted features from date,amount and coordinates (latitude and longitude)"
      ]
    },
    {
      "cell_type": "markdown",
      "metadata": {
        "id": "ql9BLl9DOwSv"
      },
      "source": [
        "##<font color='green'><b>DATE AND AMOUNT FEATURE"
      ]
    },
    {
      "cell_type": "markdown",
      "metadata": {
        "id": "UlcnXowJfR7s"
      },
      "source": [
        "Below are features that we will generate from date and amount\n",
        "* **findDay**: Tells which day is based on the date where Monday represents 0 and Sunday represent 6.\n",
        "* **weekDayORweekEnd**: Returns binary value, 1 when day is Sunday or Saturday otherwise 0.\n",
        "* **QuaterStatus**: Returns values from range of 1 to 4, based on which quater the date lies\n",
        "* **numOfDays**: Returns the numbers of days from 31st December\n",
        "* **monthStatus**: Returns the month\n",
        "* **dayStatus**: Returns the day\n",
        "* **IsMidWeek**: Returns the binary value, 1 when the day is weekend otherwise 0\n",
        "* **IsHolidayInMonth**: Returns the binary value, 1 when there is any holiday in the month based on Japan Holiday list otherwise 0\n",
        "* **Cyclical Encoding monthEncodeSin**: Month encode as sine wave\n",
        "* **Cyclical Encoding monthEncodeCos**: Month encode as cos wave\n",
        "* **Lag Variable**: We will add the previous 5 spent of user as a lag variable in the training data and use the mean of them in the testing time.\n",
        "* **Mean Lag Variable**: Mean of lag variables for each row.\n",
        "* **Median Lag Variable**: Median of lag variables for each row.\n",
        "* **Kurtosis Lag Variable**: Kurtosis of lag variables for each row.\n",
        "* **Skewness Lag Variable**: Skewness of lag variables for each row.\n",
        "* **WMA**: Weighted Moving Average of n past transcations"
      ]
    },
    {
      "cell_type": "code",
      "execution_count": null,
      "metadata": {
        "id": "1aLODcvwZhyn"
      },
      "outputs": [],
      "source": [
        "# testing\n",
        "print(findDay(\"2021-01-21\"))\n",
        "print(weekDayORweekEnd(\"2021-01-25\"))\n",
        "print(QuaterStatus(\"2021-12-25\"))\n",
        "print(numOfDays(\"2021-12-31\"))\n",
        "print(monthStatus(\"2021-01-21\"))\n",
        "print(dayStatus(\"2021-01-21\"))\n",
        "print(IsMidWeek(\"2021-01-20\"))\n",
        "print(IsHolidayInMonth(\"2021-06-21\"))"
      ]
    },
    {
      "cell_type": "code",
      "execution_count": null,
      "metadata": {
        "id": "Y91F5g-yNHfT"
      },
      "outputs": [],
      "source": [
        "dataset['event_occurrence'] = dataset['event_occurrence'].apply(lambda x: x.split(' ')[0].strip())\n",
        "dataset['category'] = dataset['category'].apply(lambda x: dictMapping[x.strip()])"
      ]
    },
    {
      "cell_type": "code",
      "execution_count": null,
      "metadata": {
        "id": "zoDDIdyxNvZx"
      },
      "outputs": [],
      "source": [
        "dataset['findDay'] = dataset['event_occurrence'].apply(findDay)\n",
        "dataset['weekDayORweekEnd'] = dataset['event_occurrence'].apply(weekDayORweekEnd)\n",
        "dataset['QuaterStatus'] = dataset['event_occurrence'].apply(QuaterStatus)\n",
        "dataset['numOfDays'] = dataset['event_occurrence'].apply(numOfDays)\n",
        "dataset['IsHolidayInMonth'] = dataset['event_occurrence'].apply(IsHolidayInMonth)\n",
        "dataset['monthStatus'] = dataset['event_occurrence'].apply(monthStatus)\n",
        "dataset['dayStatus'] = dataset['event_occurrence'].apply(dayStatus)\n",
        "dataset['IsMidWeek'] = dataset['event_occurrence'].apply(IsMidWeek)"
      ]
    },
    {
      "cell_type": "markdown",
      "metadata": {
        "id": "lhMybGqwO64w"
      },
      "source": [
        "##<font color='green'><b>LAT & LON FEATURE"
      ]
    },
    {
      "cell_type": "markdown",
      "metadata": {
        "id": "UzGJHbN-iXL3"
      },
      "source": [
        "* **Coordinate** **Transformation**: We will transform the latitude and longitude in other space by using PCA.\n",
        "\n",
        "* **City**: We will apply the reverse engineering on latitude and longitude by inferring the city using the latitude and longitude.\n",
        "\n",
        "* **State**/**Prefecture**: We will apply the reverse engineering on latitude and longitude by inferring the state/Prefecture using the latitude and longitude.\n",
        "\n",
        "* **Product of Lat and Lon**: We add product of lat and lon.\n",
        "\n",
        "* **Product of Transform Lat and Transform Lon**: We add product of transform lat and transform lon.\n"
      ]
    },
    {
      "cell_type": "code",
      "execution_count": null,
      "metadata": {
        "id": "HM3BwDu3B5g6"
      },
      "outputs": [],
      "source": [
        "# transforming the lat and long in other space\n",
        "pca = PCA(n_components=2)\n",
        "pca.fit(dataset[['lat', 'lon']].values)\n",
        "coordinatesTransform = pca.transform(dataset[['lat', 'lon']].values)\n",
        "dataset['latTransform'] = coordinatesTransform[0][0]\n",
        "dataset['lonTransform'] = coordinatesTransform[0][1]"
      ]
    },
    {
      "cell_type": "code",
      "execution_count": null,
      "metadata": {
        "id": "AikooCvgQgyQ"
      },
      "outputs": [],
      "source": [
        "# city and State from Lat and Lon\n",
        "city = []\n",
        "for i in dataset[['lat', 'lon']].values:\n",
        "    coord = (i[0], i[1])\n",
        "    city.append(coord)\n",
        "lst = [o for o in geocoder(city)]\n",
        "attrs = pd.DataFrame(lst)\n",
        "dataset['city'] = attrs['name']\n",
        "dataset['prefecture'] =  attrs['admin1']"
      ]
    },
    {
      "cell_type": "code",
      "execution_count": null,
      "metadata": {
        "id": "7Mk_MYnYWs_o"
      },
      "outputs": [],
      "source": [
        "dataset.to_csv('drive/MyDrive/PayPayDataset/processedData.csv', index = False)"
      ]
    },
    {
      "cell_type": "markdown",
      "metadata": {
        "id": "bydt_mm4m1Jm"
      },
      "source": [
        "##<font color='green'><b>CONCLUSION</b></font>"
      ]
    },
    {
      "cell_type": "markdown",
      "metadata": {
        "id": "46tLuDIZnaKn"
      },
      "source": [
        "> - *Overall we have added 26 features by exploiting the date and coordinate features.*\n",
        "> - *Some features we will generate after splitting the date into train and test to avoid any kind of data leakage*\n"
      ]
    },
    {
      "cell_type": "markdown",
      "metadata": {
        "id": "LUxgwkGCthHx"
      },
      "source": [
        "#<font color='green'><b>EXPERIMENT"
      ]
    },
    {
      "cell_type": "markdown",
      "metadata": {
        "id": "nCGVu1AGTjZZ"
      },
      "source": [
        "##<font color='green'><b>GMV AS A WHOLE FOR EACH DATE IN JANUARY 2022"
      ]
    },
    {
      "cell_type": "markdown",
      "metadata": {
        "id": "2yq0yelpkqin"
      },
      "source": [
        "> *Choose linear models (e.g., Linear Regression, SVM Regression) or Tree Based Model for simplicity and ease of hyperparameter tuning.*\n",
        "\n",
        "> *Peform smoothing in the data to avoid any kind of value spikes*\n",
        "\n",
        "> *Perform one-hot encoding for categorical features which are nominal in count because linear models tends to perform well on high dimension data.*\n",
        "\n",
        "> *Encode category variables by using median spend for each category which are high in count (or too many categories)*\n",
        "\n",
        "> *Handle unknown values for values of categorical features during test time by replacing their median value for corresponding feature.*\n",
        "\n",
        "> *Smoothing is applied on the dataset to fix the jaggeredness in the predicted variable*\n",
        "\n",
        "> *Split the dataset into train and test sets (93-7 split) for internal benchmarking.*\n",
        ">> *Due to the temporal nature in the data we will split based on the time-stamp*\n",
        "\n",
        "> *Avoid data leakage by encoding features using only the training data.*\n",
        "\n",
        "> *Randomly sample 500 stores, 100 users, and 10 dates from January 2022 for creating a feasible test set, as creating a test set that combines all unique stores (99992) and users (9962) is infeasible.*\n",
        "\n",
        "> *Evaluate linear models using MAPE and R2 Score on the test set to select the best-performing model.*\n"
      ]
    },
    {
      "cell_type": "markdown",
      "source": [
        "###<font color='green'><b>DATA SMOOTHING"
      ],
      "metadata": {
        "id": "cB2DjkSqK4-z"
      }
    },
    {
      "cell_type": "markdown",
      "source": [
        "Moving average smoothing on time-series data only when there is a spike compared to the left and right values"
      ],
      "metadata": {
        "id": "Wv35XSSXN_G8"
      }
    },
    {
      "cell_type": "code",
      "source": [
        "#sort the dataframe\n",
        "# adding dummy variable for sorting\n",
        "dataset['event_occurrence_temp'] = dataset['event_occurrence'].apply(lambda x: int(x.replace('-', '')))\n",
        "dataset.sort_values(['event_occurrence_temp', 'user_id', 'store_id'], ascending = True, inplace = True)\n",
        "# Reset the index\n",
        "dataset = dataset.reset_index(drop=True)\n",
        "# Define the window size for moving average smoothing\n",
        "window_size = 3\n",
        "\n",
        "# Calculate the difference between the current value and the left and right values\n",
        "dataset['diff_left'] = dataset['amount'].diff(periods=1)\n",
        "dataset['diff_right'] = dataset['amount'].diff(periods=-1)\n",
        "\n",
        "# Apply moving average smoothing to the data only when there is a spike, with a minimum number of non-null values\n",
        "dataset['smoothed_values'] = np.where((dataset['diff_left'] > 0) & (dataset['diff_right'] > 0),\n",
        "                                  dataset['amount'].rolling(window=window_size, min_periods=1).mean(),\n",
        "                                  dataset['amount'])\n",
        "\n",
        "# Drop the temporary diff columns\n",
        "dataset = dataset.drop(columns=['diff_left', 'diff_right', 'amount'])\n",
        "\n",
        "dataset.rename(columns={'smoothed_values': 'amount'}, inplace=True)"
      ],
      "metadata": {
        "id": "cRMAy_hELEGx"
      },
      "execution_count": null,
      "outputs": []
    },
    {
      "cell_type": "markdown",
      "metadata": {
        "id": "KyDoSjKrTrXr"
      },
      "source": [
        "###<font color='green'><b>DATA LOADING AND CONVERSION"
      ]
    },
    {
      "cell_type": "code",
      "execution_count": null,
      "metadata": {
        "id": "pGZ5kXks9TcQ"
      },
      "outputs": [],
      "source": [
        "# train and test split\n",
        "\n",
        "X = dataset.drop('amount', axis = 1)\n",
        "Y = dataset['amount']\n",
        "\n",
        "X_train, X_test, Y_train, Y_test = sklearn.model_selection.train_test_split(X, Y, \\\n",
        "                                                                             test_size = 0.07, \\\n",
        "                                                                             shuffle = False, \\\n",
        "                                                                             random_state = 5)\n"
      ]
    },
    {
      "cell_type": "code",
      "execution_count": null,
      "metadata": {
        "id": "wnf6zh9Kp_cp"
      },
      "outputs": [],
      "source": [
        "# converting the \"category\" field using one-hot encoding\n",
        "ohecategory = OneHotEncoder(handle_unknown = 'ignore')\n",
        "transformed = ohecategory.fit_transform(X_train[['category']])\n",
        "X_train[ohecategory.categories_[0]] = transformed.toarray()\n",
        "X_test[ohecategory.categories_[0]] = ohecategory.transform(X_test[['category']]).toarray()"
      ]
    },
    {
      "cell_type": "code",
      "execution_count": null,
      "metadata": {
        "id": "JoObkdjoUg_t"
      },
      "outputs": [],
      "source": [
        "# converting \"gender\" field using one-hot encoding\n",
        "ohegender = OneHotEncoder(handle_unknown = 'ignore')\n",
        "transformed = ohegender.fit_transform(X_train[['gender']])\n",
        "X_train[ohegender.categories_[0]] = transformed.toarray()\n",
        "X_test[ohegender.categories_[0]] = ohegender.transform(X_test[['gender']]).toarray()"
      ]
    },
    {
      "cell_type": "code",
      "execution_count": null,
      "metadata": {
        "id": "By8O7wqC81m8"
      },
      "outputs": [],
      "source": [
        "intermediateFrame = pd.DataFrame(columns = ['city','amount'])\n",
        "intermediateFrame['city'] = X_train['city'].values\n",
        "intermediateFrame['amount'] = preprocessing.StandardScaler().fit_transform(Y_train.values.reshape(-1,1))\n",
        "\n",
        "# City is Encoded using the median amount spend for each city\n",
        "CityTargetEncoder = dict(intermediateFrame.groupby(['city']).median()['amount'])\n",
        "# handling case when unknow city encounter during test time\n",
        "CityTargetEncoder['default'] = np.mean(list(CityTargetEncoder.values()))\n",
        "\n",
        "for idx, row in X_train.iterrows():\n",
        "    if row.city:\n",
        "        if row.city in CityTargetEncoder:\n",
        "            X_train.loc[idx, 'cityEncoder'] = CityTargetEncoder[row.city]\n",
        "        else:\n",
        "            X_train.loc[idx, 'cityEncoder'] = CityTargetEncoder['default']\n",
        "    else:\n",
        "        X_train.loc[idx, 'cityEncoder'] = CityTargetEncoder['default']"
      ]
    },
    {
      "cell_type": "code",
      "execution_count": null,
      "metadata": {
        "id": "NSk99EJ0FZIs"
      },
      "outputs": [],
      "source": [
        "for idx, row in X_test.iterrows():\n",
        "    if row.city:\n",
        "        if row.city in CityTargetEncoder:\n",
        "            X_test.loc[idx, 'cityEncoder'] = CityTargetEncoder[row.city]\n",
        "        else:\n",
        "            X_test.loc[idx, 'cityEncoder'] = CityTargetEncoder['default']\n",
        "    else:\n",
        "        X_test.loc[idx, 'cityEncoder'] = CityTargetEncoder['default']"
      ]
    },
    {
      "cell_type": "code",
      "execution_count": null,
      "metadata": {
        "id": "Hq7MdYwe-WSB"
      },
      "outputs": [],
      "source": [
        "intermediateFrame = pd.DataFrame(columns = ['prefecture','amount'])\n",
        "intermediateFrame['prefecture'] = X_train['prefecture'].values\n",
        "intermediateFrame['amount'] = preprocessing.StandardScaler().fit_transform(Y_train.values.reshape(-1,1))\n",
        "# State/Prefecture is Encoded using the median amount spend for each State\n",
        "prefectureTargetEncoder = dict(intermediateFrame.groupby(['prefecture']).median()['amount'])\n",
        "# handling case when unknow State/Prefecture encounter during test time\n",
        "prefectureTargetEncoder['default'] = np.mean(list(prefectureTargetEncoder.values()))\n",
        "for idx, row in X_train.iterrows():\n",
        "    if row.prefecture:\n",
        "        if row.prefecture in prefectureTargetEncoder:\n",
        "            X_train.loc[idx, 'prefectureEncoder'] = prefectureTargetEncoder[row.prefecture]\n",
        "        else:\n",
        "            X_train.loc[idx, 'prefectureEncoder'] = prefectureTargetEncoder['default']\n",
        "    else:\n",
        "        X_train.loc[idx, 'prefectureEncoder'] = prefectureTargetEncoder['default']"
      ]
    },
    {
      "cell_type": "code",
      "execution_count": null,
      "metadata": {
        "id": "JgCuYScHKTHF"
      },
      "outputs": [],
      "source": [
        "for idx, row in X_test.iterrows():\n",
        "    if row.prefecture:\n",
        "        if row.prefecture in prefectureTargetEncoder:\n",
        "            X_test.loc[idx, 'prefectureEncoder'] = prefectureTargetEncoder[row.prefecture]\n",
        "        else:\n",
        "            X_test.loc[idx, 'prefectureEncoder'] = prefectureTargetEncoder['default']\n",
        "    else:\n",
        "        X_test.loc[idx, 'prefectureEncoder'] = prefectureTargetEncoder['default']"
      ]
    },
    {
      "cell_type": "code",
      "execution_count": null,
      "metadata": {
        "id": "WYOTDdUJSfI8"
      },
      "outputs": [],
      "source": [
        "intermediateFrame = pd.DataFrame(columns = ['user_id','amount'])\n",
        "intermediateFrame['user_id'] = X_train['user_id'].values\n",
        "intermediateFrame['amount'] = preprocessing.StandardScaler().fit_transform(Y_train.values.reshape(-1,1))\n",
        "# user_id is Encoded using the median amount spend for each State\n",
        "user_idTargetEncoder = dict(intermediateFrame.groupby(['user_id']).median()['amount'])\n",
        "# handling case when unknow user_id encounter during test time\n",
        "user_idTargetEncoder['default'] = np.mean(list(user_idTargetEncoder.values()))\n",
        "for idx, row in X_train.iterrows():\n",
        "    if row.user_id:\n",
        "        if row.user_id in user_idTargetEncoder:\n",
        "            X_train.loc[idx, 'user_idEncoder'] = user_idTargetEncoder[row.user_id]\n",
        "        else:\n",
        "            X_train.loc[idx, 'user_idEncoder'] = user_idTargetEncoder['default']\n",
        "    else:\n",
        "        X_train.loc[idx, 'user_idEncoder'] = user_idTargetEncoder['default']"
      ]
    },
    {
      "cell_type": "code",
      "execution_count": null,
      "metadata": {
        "id": "oAAe0qNBUyv7"
      },
      "outputs": [],
      "source": [
        "for idx, row in X_test.iterrows():\n",
        "    if row.user_id:\n",
        "        if row.user_id in user_idTargetEncoder:\n",
        "            X_test.loc[idx, 'user_idEncoder'] = user_idTargetEncoder[row.user_id]\n",
        "        else:\n",
        "            X_test.loc[idx, 'user_idEncoder'] = user_idTargetEncoder['default']\n",
        "    else:\n",
        "        X_test.loc[idx, 'user_idEncoder'] = user_idTargetEncoder['default']"
      ]
    },
    {
      "cell_type": "code",
      "execution_count": null,
      "metadata": {
        "id": "lEWwIjdyU_-Z"
      },
      "outputs": [],
      "source": [
        "intermediateFrame = pd.DataFrame(columns = ['store_id','amount'])\n",
        "intermediateFrame['store_id'] = X_train['store_id'].values\n",
        "intermediateFrame['amount'] = preprocessing.StandardScaler().fit_transform(Y_train.values.reshape(-1,1))\n",
        "# store_id is Encoded using the median amount spend for each State\n",
        "store_idTargetEncoder = dict(intermediateFrame.groupby(['store_id']).median()['amount'])\n",
        "# handling case when unknow store_id encounter during test time\n",
        "store_idTargetEncoder['default'] = np.mean(list(store_idTargetEncoder.values()))\n",
        "for idx, row in X_train.iterrows():\n",
        "    if row.store_id:\n",
        "        if row.store_id in store_idTargetEncoder:\n",
        "            X_train.loc[idx, 'store_idEncoder'] = store_idTargetEncoder[row.store_id]\n",
        "        else:\n",
        "            X_train.loc[idx, 'store_idEncoder'] = store_idTargetEncoder['default']\n",
        "    else:\n",
        "        X_train.loc[idx, 'store_idEncoder'] = store_idTargetEncoder['default']\n",
        "\n",
        "for idx, row in X_test.iterrows():\n",
        "    if row.store_id:\n",
        "        if row.store_id in store_idTargetEncoder:\n",
        "            X_test.loc[idx, 'store_idEncoder'] = store_idTargetEncoder[row.store_id]\n",
        "        else:\n",
        "            X_test.loc[idx, 'store_idEncoder'] = store_idTargetEncoder['default']\n",
        "    else:\n",
        "        X_test.loc[idx, 'store_idEncoder'] = store_idTargetEncoder['default']"
      ]
    },
    {
      "cell_type": "code",
      "execution_count": null,
      "metadata": {
        "id": "kGAJlC7iJhQk"
      },
      "outputs": [],
      "source": [
        "intermediateFrame = pd.DataFrame(columns = ['nam','amount'])\n",
        "intermediateFrame['nam'] = X_train['nam'].values\n",
        "intermediateFrame['amount'] = preprocessing.StandardScaler().fit_transform(Y_train.values.reshape(-1,1))\n",
        "# nam is Encoded using the median amount spend for each State\n",
        "namTargetEncoder = dict(intermediateFrame.groupby(['nam']).median()['amount'])\n",
        "# handling case when unknow nam encounter during test time\n",
        "namTargetEncoder['default'] = np.mean(list(namTargetEncoder.values()))\n",
        "for idx, row in X_train.iterrows():\n",
        "    if row.nam:\n",
        "        if row.nam in namTargetEncoder:\n",
        "            X_train.loc[idx, 'namEncoder'] = namTargetEncoder[row.nam]\n",
        "        else:\n",
        "            X_train.loc[idx, 'namEncoder'] = namTargetEncoder['default']\n",
        "    else:\n",
        "        X_train.loc[idx, 'namEncoder'] = namTargetEncoder['default']\n",
        "\n",
        "for idx, row in X_test.iterrows():\n",
        "    if row.nam:\n",
        "        if row.nam in namTargetEncoder:\n",
        "            X_test.loc[idx, 'namEncoder'] = namTargetEncoder[row.nam]\n",
        "        else:\n",
        "            X_test.loc[idx, 'namEncoder'] = namTargetEncoder['default']\n",
        "    else:\n",
        "        X_test.loc[idx, 'namEncoder'] = namTargetEncoder['default']"
      ]
    },
    {
      "cell_type": "code",
      "execution_count": null,
      "metadata": {
        "id": "YIoxk18xKrNj"
      },
      "outputs": [],
      "source": [
        "intermediateFrame = pd.DataFrame(columns = ['laa','amount'])\n",
        "intermediateFrame['laa'] = X_train['laa'].values\n",
        "intermediateFrame['amount'] = preprocessing.StandardScaler().fit_transform(Y_train.values.reshape(-1,1))\n",
        "# laa is Encoded using the median amount spend for each laa\n",
        "laaTargetEncoder = dict(intermediateFrame.groupby(['laa']).median()['amount'])\n",
        "# handling case when unknow laa encounter during test time\n",
        "laaTargetEncoder['default'] = np.mean(list(laaTargetEncoder.values()))\n",
        "for idx, row in X_train.iterrows():\n",
        "    if row.laa:\n",
        "        if row.laa in laaTargetEncoder:\n",
        "            X_train.loc[idx, 'laaEncoder'] = laaTargetEncoder[row.laa]\n",
        "        else:\n",
        "            X_train.loc[idx, 'laaEncoder'] = laaTargetEncoder['default']\n",
        "    else:\n",
        "        X_train.loc[idx, 'laaEncoder'] = laaTargetEncoder['default']\n",
        "\n",
        "for idx, row in X_test.iterrows():\n",
        "    if row.laa:\n",
        "        if row.laa in laaTargetEncoder:\n",
        "            X_test.loc[idx, 'laaEncoder'] = laaTargetEncoder[row.laa]\n",
        "        else:\n",
        "            X_test.loc[idx, 'laaEncoder'] = laaTargetEncoder['default']\n",
        "    else:\n",
        "        X_test.loc[idx, 'laaEncoder'] = laaTargetEncoder['default']\n",
        "\n"
      ]
    },
    {
      "cell_type": "code",
      "execution_count": null,
      "metadata": {
        "id": "wM-obtDVR-Ex"
      },
      "outputs": [],
      "source": [
        "# lat and lon product\n",
        "X_train['latlong'] = X_train['lat'] * X_train['lon']\n",
        "X_test['latlong'] = X_test['lat'] * X_test['lon']\n",
        "# lat and lon transform product\n",
        "X_train['lattransformlongtransform'] = X_train['latTransform'] * X_train['lonTransform']\n",
        "X_test['lattransformlongtransform'] = X_test['latTransform'] * X_test['lonTransform']"
      ]
    },
    {
      "cell_type": "code",
      "execution_count": null,
      "metadata": {
        "id": "6PUpGA_MbrLX"
      },
      "outputs": [],
      "source": [
        "# Cyclic Encoding\n",
        "period = 12\n",
        "X_train['monthEncodeSin'] = X_train['monthStatus'].apply(lambda x: np.sin(2 * np.pi * x / period))\n",
        "X_test['monthEncodeSin'] = X_test['monthStatus'].apply(lambda x: np.sin(2 * np.pi * x / period))\n",
        "\n",
        "X_train['monthEncodeCos'] = X_train['monthStatus'].apply(lambda x: np.cos(2 * np.pi * x / period))\n",
        "X_test['monthEncodeCos'] = X_test['monthStatus'].apply(lambda x: np.cos(2 * np.pi * x / period))"
      ]
    },
    {
      "cell_type": "code",
      "execution_count": null,
      "metadata": {
        "id": "s7z_QdG4Z0jr"
      },
      "outputs": [],
      "source": [
        "X_train['event_occurrence'] = X_train['event_occurrence'].apply(lambda x: int(x.replace('-', '')))\n",
        "X_test['event_occurrence'] = X_test['event_occurrence'].apply(lambda x: int(x.replace('-', '')))"
      ]
    },
    {
      "cell_type": "code",
      "execution_count": null,
      "metadata": {
        "id": "EnLs0RQwrtI9"
      },
      "outputs": [],
      "source": [
        "# Adding lag variable\n",
        "# temporary adding the amounts for inducing the lag variable\n",
        "X_train['amount'] = Y_train.values\n",
        "\n",
        "# Add lag variables of size 5 to training data\n",
        "for i in range(1, 6):\n",
        "    X_train['amount_lag{}'.format(i)] = X_train['amount'].shift(i)\n",
        "\n",
        "# Fill lag variables in test data using training data\n",
        "for i in range(1, 6):\n",
        "    X_test['amount_lag{}'.format(i)] = None"
      ]
    },
    {
      "cell_type": "code",
      "source": [
        "# Weighted Moving Average\n",
        "# Define window size (n)\n",
        "\n",
        "n = 47\n",
        "\n",
        "# Generate n random numbers between 0 and 1\n",
        "numbers = [random.random() for _ in range(n)]\n",
        "\n",
        "# Calculate the sum of the numbers\n",
        "total = sum(numbers)\n",
        "\n",
        "# Normalize the numbers so that their sum is 1\n",
        "weights = [x / total for x in numbers]\n",
        "weights.sort()\n",
        "\n",
        "# Function to calculate WMA\n",
        "def wma(x):\n",
        "    # Set maximum value from training data\n",
        "    max_value = float(9000)\n",
        "    weighted_sum = np.sum(weights * x) / np.sum(weights)\n",
        "    # Check if the weighted sum is negative, and if so, set it to the minimum threshold value\n",
        "    if weighted_sum >= max_value:\n",
        "        # print('Before ', weighted_sum)\n",
        "        weighted_sum = max_value\n",
        "        # print('After ', weighted_sum)\n",
        "    return int(weighted_sum)\n",
        "\n",
        "# Calculate WMA for the 'amount' column using rolling window\n",
        "X_train['wma'] = X_train['amount'].rolling(window=n).apply(wma)\n",
        "X_test['wma'] = None\n"
      ],
      "metadata": {
        "id": "qli9Lh7kjIsR"
      },
      "execution_count": null,
      "outputs": []
    },
    {
      "cell_type": "code",
      "execution_count": null,
      "metadata": {
        "id": "oWqY2XK285t0"
      },
      "outputs": [],
      "source": [
        "\n",
        "# Calculate mean for lag columns\n",
        "X_train['mean_lag_variable'] = X_train[['amount_lag1', 'amount_lag2', 'amount_lag3', 'amount_lag4', 'amount_lag5']].mean(axis=1)\n",
        "X_test['mean_lag_variable'] = None\n",
        "# Print updated DataFrame\n"
      ]
    },
    {
      "cell_type": "code",
      "source": [
        "# Calculate median for lag columns\n",
        "X_train['median_lag_variable'] = X_train[['amount_lag1', 'amount_lag2', 'amount_lag3', 'amount_lag4', 'amount_lag5']].median(axis=1)\n",
        "X_test['median_lag_variable'] = None\n",
        "# Print updated DataFrame"
      ],
      "metadata": {
        "id": "YI4-vvX60trd"
      },
      "execution_count": null,
      "outputs": []
    },
    {
      "cell_type": "code",
      "source": [
        "# Calculate kurtosis for lag columns\n",
        "X_train['kurtosis_lag_variable'] = X_train[['amount_lag1', 'amount_lag2', 'amount_lag3', 'amount_lag4', 'amount_lag5']].kurtosis(axis=1)\n",
        "X_test['kurtosis_lag_variable'] = None\n",
        "# Print updated DataFrame"
      ],
      "metadata": {
        "id": "AoFI5h5J0410"
      },
      "execution_count": null,
      "outputs": []
    },
    {
      "cell_type": "code",
      "source": [
        "# Calculate skewness for lag columns\n",
        "X_train['skewness_lag_variable'] = X_train[['amount_lag1', 'amount_lag2', 'amount_lag3', 'amount_lag4', 'amount_lag5']].skew(axis=1)\n",
        "X_test['skewness_lag_variable'] = None\n",
        "# Print updated DataFrame"
      ],
      "metadata": {
        "id": "pNCeCq9X1GHG"
      },
      "execution_count": null,
      "outputs": []
    },
    {
      "cell_type": "markdown",
      "metadata": {
        "id": "VTrg2PprOlBx"
      },
      "source": [
        "###<font color='green'><b>MODEL BUILDING"
      ]
    },
    {
      "cell_type": "markdown",
      "metadata": {
        "id": "WotC2nOW4VEJ"
      },
      "source": [
        "####<font color='green'><b> LINEAR REGRESSION"
      ]
    },
    {
      "cell_type": "code",
      "execution_count": null,
      "metadata": {
        "id": "TR2ZdUjj4jaf"
      },
      "outputs": [],
      "source": [
        "COLS = ['lat', 'lon', 'age', 'findDay', 'weekDayORweekEnd',\n",
        "       'QuaterStatus', 'numOfDays', 'IsHolidayInMonth', 'monthStatus',\n",
        "       'dayStatus', 'IsMidWeek', 'latTransform', 'lonTransform',\n",
        "        'Appliances', 'Cafe','event_occurrence',\n",
        "       'Entertainment', 'Gourmet', 'Hospital', 'Hotel', 'Massage', 'Pharmacy',\n",
        "       'cleaning', 'convenienceStore', 'fashion', 'others', 'salon',\n",
        "       'shopping', 'shoppingCenter', 'supermarket', 'F', 'M', 'NOTDEFINED',\n",
        "       'OTHER', 'cityEncoder', 'prefectureEncoder', 'user_idEncoder',\n",
        "       'store_idEncoder', 'namEncoder', 'laaEncoder', 'latlong',\n",
        "       'lattransformlongtransform', 'monthEncodeSin', 'monthEncodeCos',\n",
        "        'amount_lag1', 'amount_lag2', 'amount_lag3', 'amount_lag4',\n",
        "       'amount_lag5','mean_lag_variable', 'median_lag_variable',\n",
        "       'kurtosis_lag_variable', 'skewness_lag_variable']\n"
      ]
    },
    {
      "cell_type": "code",
      "execution_count": null,
      "metadata": {
        "id": "EvV-iShRVTLr"
      },
      "outputs": [],
      "source": [
        "parameters = {'alpha': [10 ** i for i in range(-5, 5, 1)],\n",
        "              'fit_intercept':[True, False]\n",
        "             }\n",
        "clf = Ridge()"
      ]
    },
    {
      "cell_type": "code",
      "source": [
        "X_train.fillna(float(0), inplace = True)"
      ],
      "metadata": {
        "id": "oG6riqslESDS"
      },
      "execution_count": null,
      "outputs": []
    },
    {
      "cell_type": "code",
      "execution_count": null,
      "metadata": {
        "id": "k_6FX5V5E2Vz"
      },
      "outputs": [],
      "source": [
        "# Run the grid search\n",
        "grid_obj = GridSearchCV(clf, parameters, cv = 3, scoring='neg_mean_squared_error')\n",
        "grid_obj = grid_obj.fit(X_train[COLS], Y_train)"
      ]
    },
    {
      "cell_type": "code",
      "execution_count": null,
      "metadata": {
        "id": "RCfOlNIAIPyf"
      },
      "outputs": [],
      "source": [
        "grid_obj.best_estimator_"
      ]
    },
    {
      "cell_type": "code",
      "execution_count": null,
      "metadata": {
        "id": "UusxOWLnG0zv"
      },
      "outputs": [],
      "source": [
        "# Set the clf to the best combination of parameters\n",
        "clf = grid_obj.best_estimator_\n",
        "# Fit the best algorithm to the data.\n",
        "clf.fit(X_train[COLS], Y_train)"
      ]
    },
    {
      "cell_type": "code",
      "execution_count": null,
      "metadata": {
        "id": "Ico4qeyA6dPB"
      },
      "outputs": [],
      "source": [
        "y_pred = clf.predict(X_train[COLS])\n",
        "y_pred = abs(y_pred)\n",
        "print(\"Mean Absolute Percentage Error on train set\", mean_absolute_percentage_error(Y_train, y_pred))\n",
        "print(\"R2 Score on train set\", r2_score(Y_train, y_pred))"
      ]
    },
    {
      "cell_type": "code",
      "execution_count": null,
      "metadata": {
        "id": "kATFE4l7mMMF"
      },
      "outputs": [],
      "source": [
        "y_pred = []\n",
        "previouswma = Y_train.tail(n+2).tolist()\n",
        "previouslagvalues = Y_train.tail(6).tolist()\n",
        "# initialize pervious values\n",
        "lagscolumns = ['amount_lag1', 'amount_lag2', 'amount_lag3', 'amount_lag4', 'amount_lag5']\n",
        "# Iterate over the rows of the dataframe\n",
        "for index, row in X_test.iterrows():\n",
        "    X_test.at[index, 'wma'] = wma(np.array(previouswma[-n:]))\n",
        "    X_test.at[index, 'amount_lag1'] = float(previouslagvalues[-1])\n",
        "    X_test.at[index, 'amount_lag2'] = float(previouslagvalues[-2])\n",
        "    X_test.at[index, 'amount_lag3'] = float(previouslagvalues[-3])\n",
        "    X_test.at[index, 'amount_lag4'] = float(previouslagvalues[-4])\n",
        "    X_test.at[index, 'amount_lag5'] = float(previouslagvalues[-5])\n",
        "    X_test.at[index, 'mean_lag_variable'] = X_test.loc[index, lagscolumns].mean()\n",
        "    X_test.at[index, 'median_lag_variable'] = X_test.loc[index, lagscolumns].median()\n",
        "    X_test.at[index, 'kurtosis_lag_variable'] = X_test.loc[index, lagscolumns].kurtosis()\n",
        "    X_test.at[index, 'skewness_lag_variable'] = X_test.loc[index, lagscolumns].skew()\n",
        "    pred =  abs(clf.predict([X_test.loc[index, COLS].values]))\n",
        "    y_pred.append(pred)\n",
        "    previouswma.append(pred)\n",
        "    previouslagvalues.append(pred)\n",
        "\n",
        "print(\"Mean Absolute Percentage Error on train set\", mean_absolute_percentage_error(Y_test, y_pred))\n",
        "print(\"R2 Score on train set\", r2_score(Y_test, y_pred))"
      ]
    },
    {
      "cell_type": "markdown",
      "metadata": {
        "id": "fkqlOWFxOu94"
      },
      "source": [
        "####<font color='green'><b> XGBOOST REGRESSION"
      ]
    },
    {
      "cell_type": "code",
      "execution_count": null,
      "metadata": {
        "id": "lS97xbTUPq06"
      },
      "outputs": [],
      "source": [
        "# Define the optimal parameters\n",
        "params = {\n",
        "    'n_estimators': 200,        # Number of boosting rounds\n",
        "    'max_depth': 5,             # Maximum depth of each tree\n",
        "    'learning_rate': 0.1,       # Learning rate or step size\n",
        "    'subsample': 0.8,           # Fraction of samples for fitting each tree\n",
        "    'colsample_bytree': 0.8,    # Fraction of features for fitting each tree\n",
        "    'reg_alpha': 0,             # L1 regularization (Lasso)\n",
        "    'reg_lambda': 1,            # L2 regularization (Ridge)\n",
        "    'min_child_weight': 1,\n",
        "    'gamma': 0.01,              # Minimum sum of instance weight in a child node\n",
        "    'objective': 'reg:squarederror'\n",
        "}\n",
        "# Fit the best algorithm to the data.\n",
        "clf = xgb.XGBRegressor(**params)\n",
        "clf.fit(X_train[COLS], Y_train)"
      ]
    },
    {
      "cell_type": "code",
      "execution_count": null,
      "metadata": {
        "id": "de4AT-wMPuAv"
      },
      "outputs": [],
      "source": [
        "y_pred = clf.predict(X_train[COLS])\n",
        "print(\"Mean Absolute Percentage Error on train set\", mean_absolute_percentage_error(Y_train, y_pred))\n",
        "print(\"R2 Score on train set\", r2_score(Y_train, y_pred))"
      ]
    },
    {
      "cell_type": "code",
      "execution_count": null,
      "metadata": {
        "id": "jKzz8LA0Y_-2"
      },
      "outputs": [],
      "source": [
        "y_pred = []\n",
        "previouswma = Y_train.tail(n+2).tolist()\n",
        "previouslagvalues = Y_train.tail(6).tolist()\n",
        "# initialize pervious values\n",
        "lagscolumns = ['amount_lag1', 'amount_lag2', 'amount_lag3', 'amount_lag4', 'amount_lag5']\n",
        "# Iterate over the rows of the dataframe\n",
        "for index, row in X_test.iterrows():\n",
        "    X_test.at[index, 'wma'] = wma(np.array(previouswma[-n:]))\n",
        "    X_test.at[index, 'amount_lag1'] = float(previouslagvalues[-1])\n",
        "    X_test.at[index, 'amount_lag2'] = float(previouslagvalues[-2])\n",
        "    X_test.at[index, 'amount_lag3'] = float(previouslagvalues[-3])\n",
        "    X_test.at[index, 'amount_lag4'] = float(previouslagvalues[-4])\n",
        "    X_test.at[index, 'amount_lag5'] = float(previouslagvalues[-5])\n",
        "    X_test.at[index, 'mean_lag_variable'] = X_test.loc[index, lagscolumns].mean()\n",
        "    X_test.at[index, 'median_lag_variable'] = X_test.loc[index, lagscolumns].median()\n",
        "    X_test.at[index, 'kurtosis_lag_variable'] = X_test.loc[index, lagscolumns].kurtosis()\n",
        "    X_test.at[index, 'skewness_lag_variable'] = X_test.loc[index, lagscolumns].skew()\n",
        "    pred =  clf.predict(X_test.loc[index, COLS].values)\n",
        "    pred =  abs(clf.predict(X_test.loc[index, COLS].values))\n",
        "    y_pred.append(pred)\n",
        "    previouswma.append(pred)\n",
        "    previouslagvalues.append(pred)\n",
        "\n",
        "print(\"Mean Absolute Percentage Error on train set\", mean_absolute_percentage_error(Y_test, y_pred))\n",
        "print(\"R2 Score on train set\", r2_score(Y_test, y_pred))"
      ]
    },
    {
      "cell_type": "markdown",
      "metadata": {
        "id": "fa1-AKcjwlCt"
      },
      "source": [
        "\n",
        "\n",
        "\n",
        "##<font color='green'><b>CONCLUSION</b></font>"
      ]
    },
    {
      "cell_type": "code",
      "execution_count": null,
      "metadata": {
        "id": "mjNEkgz0RVnH"
      },
      "outputs": [],
      "source": [
        "from prettytable import PrettyTable\n",
        "print('Performance Table')\n",
        "print(\"Error Metric Matrix -  MAPE\")\n",
        "x = PrettyTable()\n",
        "x.field_names =[\"Models\",\"Train\",\"Test\"]\n",
        "x.add_row([\"Linear Regression \", 1.53, 1.6])\n",
        "x.add_row([\"XgBoost Regression \", 1.48, 1.9])\n",
        "print(x)"
      ]
    },
    {
      "cell_type": "markdown",
      "metadata": {
        "id": "Li5_Q2MoSddx"
      },
      "source": [
        "* We are selecting Linear Regression Model as our best Model because of simplicity and not much difference in the performance"
      ]
    },
    {
      "cell_type": "markdown",
      "metadata": {
        "id": "aABSS0oKSmk_"
      },
      "source": [
        "##<font color='green'><b>PREDICTION ON JANUARY 2022</b></font>"
      ]
    },
    {
      "cell_type": "markdown",
      "metadata": {
        "id": "pbN8nU0YS3Ra"
      },
      "source": [
        "###<font color='green'><b>TEST SET CREATION</b></font>"
      ]
    },
    {
      "cell_type": "markdown",
      "metadata": {
        "id": "hvjS8sZiTCvz"
      },
      "source": [
        "Randomly sample 500 stores, 100 users, and 10 dates from January 2022 for creating a feasible test set, as creating a test set that combines all unique stores (99992) and users (9962) is infeasible"
      ]
    },
    {
      "cell_type": "code",
      "execution_count": null,
      "metadata": {
        "id": "4Nzf0MUkTGHj"
      },
      "outputs": [],
      "source": [
        "%%bash\n",
        "\n",
        "cat /content/drive/MyDrive/PayPayDataset/stores.csv |  head -1 | sed \"s;id;store_id;g\" > filter_stores.csv\n",
        "cat /content/drive/MyDrive/PayPayDataset/stores.csv |  tail -n+2 | shuf | head -250 >> filter_stores.csv\n",
        "cat /content/drive/MyDrive/PayPayDataset/users.csv |  head -1 | sed \"s;id;user_id;g\" > filter_users.csv\n",
        "cat /content/drive/MyDrive/PayPayDataset/users.csv |  tail -n+2 | shuf | head -100 >> filter_users.csv\n"
      ]
    },
    {
      "cell_type": "code",
      "execution_count": null,
      "metadata": {
        "id": "hrKrT1ZfYKdD"
      },
      "outputs": [],
      "source": [
        "# Load the stores CSV file\n",
        "df1 = pd.read_csv('/content/filter_stores.csv')\n",
        "# Load the user CSV file\n",
        "df2 = pd.read_csv('/content/filter_users.csv')\n",
        "# Perform the cross product\n",
        "df_cross_product = pd.merge(df1.assign(key=1), df2.assign(key=1), on='key').drop('key', axis=1)\n",
        "# Drop rows are empty or NaN\n",
        "df_dropna_rows = df_cross_product.dropna()\n",
        "# Start date\n",
        "start_date = datetime.date(2022, 1, 1)\n",
        "# Create a list to store the generated dates\n",
        "dates = []\n",
        "# Generate dates from 1 to 10 and append to the list\n",
        "for i in range(1, 11):\n",
        "    date = start_date + datetime.timedelta(days=i-1)\n",
        "    dates.append(date.strftime('%Y-%m-%d'))\n",
        "\n",
        "# Create Dataframe using the generated dates\n",
        "df_dates = pd.DataFrame(dates, columns = ['event_occurrence'])\n",
        "# final testset\n",
        "testset = pd.merge(df_dropna_rows.assign(key=1), df_dates.assign(key=1), on='key').drop('key', axis=1)"
      ]
    },
    {
      "cell_type": "code",
      "execution_count": null,
      "metadata": {
        "id": "O60THCOzcEFX"
      },
      "outputs": [],
      "source": [
        "# feature adding\n",
        "testset['findDay'] = testset['event_occurrence'].apply(findDay)\n",
        "testset['weekDayORweekEnd'] = testset['event_occurrence'].apply(weekDayORweekEnd)\n",
        "testset['QuaterStatus'] = testset['event_occurrence'].apply(QuaterStatus)\n",
        "testset['numOfDays'] = testset['event_occurrence'].apply(numOfDays)\n",
        "testset['IsHolidayInMonth'] = testset['event_occurrence'].apply(IsHolidayInMonth)\n",
        "testset['monthStatus'] = testset['event_occurrence'].apply(monthStatus)\n",
        "testset['dayStatus'] = testset['event_occurrence'].apply(dayStatus)\n",
        "testset['IsMidWeek'] = testset['event_occurrence'].apply(IsMidWeek)\n",
        "testset['event_occurrence'] = testset['event_occurrence'].apply(lambda x: x.split(' ')[0].strip())\n",
        "testset['category'] = testset['category'].apply(lambda x: dictMapping[x.strip()])\n",
        "testset['event_occurrence'] = testset['event_occurrence'].apply(lambda x: int(x.replace('-', '')))\n",
        "testset['monthEncodeSin'] = testset['monthStatus'].apply(lambda x: np.sin(2 * np.pi * x / period))\n",
        "testset['monthEncodeCos'] = testset['monthStatus'].apply(lambda x: np.cos(2 * np.pi * x / period))\n",
        "coordinatesTransform = pca.transform(testset[['lat', 'lon']].values)\n",
        "testset['latTransform'] = coordinatesTransform[0][0]\n",
        "testset['lonTransform'] = coordinatesTransform[0][1]\n",
        "testset['lattransformlongtransform'] = testset['latTransform'] * testset['lonTransform']\n",
        "testset['latlong'] = testset['lat'] * testset['lon']\n",
        "\n",
        "testset.sort_values(['event_occurrence', 'user_id', 'store_id'], ascending = True, inplace = True)\n",
        "# Reset the index\n",
        "testset = testset.reset_index(drop=True)"
      ]
    },
    {
      "cell_type": "code",
      "source": [
        "testset[ohecategory.categories_[0]] = ohecategory.transform(testset[['category']]).toarray()\n",
        "testset[ohegender.categories_[0]] = ohegender.transform(testset[['gender']]).toarray()"
      ],
      "metadata": {
        "id": "VCVqVQb17quO"
      },
      "execution_count": null,
      "outputs": []
    },
    {
      "cell_type": "code",
      "source": [
        "for i in COLS:\n",
        "    if i not in testset.columns:\n",
        "        testset[i] = None"
      ],
      "metadata": {
        "id": "CPgDQGmP7DaO"
      },
      "execution_count": null,
      "outputs": []
    },
    {
      "cell_type": "code",
      "source": [
        "# city and State from Lat and Lon\n",
        "city = []\n",
        "for i in testset[['lat', 'lon']].values:\n",
        "    coord = (i[0], i[1])\n",
        "    city.append(coord)\n",
        "lst = [o for o in geocoder(city)]\n",
        "attrs = pd.DataFrame(lst)\n",
        "testset['city'] = attrs['name']\n",
        "testset['prefecture'] =  attrs['admin1']"
      ],
      "metadata": {
        "id": "EU854_9D9QMh"
      },
      "execution_count": null,
      "outputs": []
    },
    {
      "cell_type": "code",
      "source": [
        "testset['AmountPrediction'] = None"
      ],
      "metadata": {
        "id": "sS2amZdE-vIC"
      },
      "execution_count": null,
      "outputs": []
    },
    {
      "cell_type": "code",
      "source": [
        "previouswma = Y_train.tail(n+2).tolist()\n",
        "previouslagvalues = Y_train.tail(6).tolist()\n",
        "# initialize pervious values\n",
        "lagscolumns = ['amount_lag1', 'amount_lag2', 'amount_lag3', 'amount_lag4', 'amount_lag5']\n",
        "# Iterate over the rows of the dataframe\n",
        "for index, row in testset.iterrows():\n",
        "    testset.at[index, 'wma'] = wma(np.array(previouswma[-n:]))\n",
        "    testset.at[index, 'amount_lag1'] = float(previouslagvalues[-1])\n",
        "    testset.at[index, 'amount_lag2'] = float(previouslagvalues[-2])\n",
        "    testset.at[index, 'amount_lag3'] = float(previouslagvalues[-3])\n",
        "    testset.at[index, 'amount_lag4'] = float(previouslagvalues[-4])\n",
        "    testset.at[index, 'amount_lag5'] = float(previouslagvalues[-5])\n",
        "    testset.at[index, 'mean_lag_variable'] = testset.loc[index, lagscolumns].mean()\n",
        "    testset.at[index, 'median_lag_variable'] = testset.loc[index, lagscolumns].median()\n",
        "    testset.at[index, 'kurtosis_lag_variable'] = testset.loc[index, lagscolumns].kurtosis()\n",
        "    testset.at[index, 'skewness_lag_variable'] = testset.loc[index, lagscolumns].skew()\n",
        "    if testset.loc[index, 'city'] in CityTargetEncoder:\n",
        "        testset.at[index, 'cityEncoder'] = CityTargetEncoder[testset.loc[index, 'city']]\n",
        "    else:\n",
        "        testset.at[index, 'cityEncoder'] = CityTargetEncoder['default']\n",
        "\n",
        "    if testset.loc[index, 'prefecture'] in prefectureTargetEncoder:\n",
        "        testset.at[index, 'prefectureEncoder'] = prefectureTargetEncoder[testset.loc[index, 'prefecture']]\n",
        "    else:\n",
        "        testset.at[index, 'prefectureEncoder'] = prefectureTargetEncoder['default']\n",
        "\n",
        "    if testset.loc[index, 'store_id'] in store_idTargetEncoder:\n",
        "        testset.at[index, 'store_idEncoder'] = store_idTargetEncoder[testset.loc[index, 'store_id']]\n",
        "    else:\n",
        "        testset.at[index, 'store_idEncoder'] = store_idTargetEncoder['default']\n",
        "\n",
        "    if testset.loc[index, 'user_id'] in user_idTargetEncoder:\n",
        "        testset.at[index, 'user_idEncoder'] = user_idTargetEncoder[testset.loc[index, 'user_id']]\n",
        "    else:\n",
        "        testset.at[index, 'user_idEncoder'] = user_idTargetEncoder['default']\n",
        "\n",
        "\n",
        "    if testset.loc[index, 'nam'] in namTargetEncoder:\n",
        "        testset.at[index, 'namEncoder'] = namTargetEncoder[testset.loc[index, 'nam']]\n",
        "    else:\n",
        "        testset.at[index, 'namEncoder'] = namTargetEncoder['default']\n",
        "\n",
        "    if testset.loc[index, 'laa'] in laaTargetEncoder:\n",
        "        testset.at[index, 'laaEncoder'] = laaTargetEncoder[testset.loc[index, 'laa']]\n",
        "    else:\n",
        "        testset.at[index, 'laaEncoder'] = laaTargetEncoder['default']\n",
        "    pred =  clf.predict([testset.loc[index, COLS].values])\n",
        "    testset.at[index, 'AmountPrediction'] = pred\n"
      ],
      "metadata": {
        "id": "URq2n2Jx9FYk"
      },
      "execution_count": null,
      "outputs": []
    },
    {
      "cell_type": "code",
      "source": [
        "testset['AmountPrediction'] = testset['AmountPrediction'].apply(lambda x: abs(int(x)))"
      ],
      "metadata": {
        "id": "GqqBb1EgKIOv"
      },
      "execution_count": null,
      "outputs": []
    },
    {
      "cell_type": "code",
      "source": [
        "testset"
      ],
      "metadata": {
        "id": "fOF0bioKK2ZC"
      },
      "execution_count": null,
      "outputs": []
    },
    {
      "cell_type": "code",
      "source": [
        "# Select columns to save\n",
        "columns_to_save = ['user_id', 'store_id', 'category', 'event_occurrence', 'AmountPrediction']\n",
        "testset[columns_to_save].to_csv('drive/MyDrive/PayPayDataset/predictionGMV_AS_A_WHOLE.csv', index = False)"
      ],
      "metadata": {
        "id": "fPbrEFmGKddC"
      },
      "execution_count": null,
      "outputs": []
    }
  ],
  "metadata": {
    "colab": {
      "provenance": [],
      "include_colab_link": true
    },
    "gpuClass": "standard",
    "kernelspec": {
      "display_name": "Python 3",
      "name": "python3"
    },
    "language_info": {
      "name": "python"
    }
  },
  "nbformat": 4,
  "nbformat_minor": 0
}